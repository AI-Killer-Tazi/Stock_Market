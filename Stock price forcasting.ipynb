{
 "cells": [
  {
   "cell_type": "code",
   "execution_count": 2,
   "metadata": {},
   "outputs": [],
   "source": [
    "import pandas as pd\n",
    "import numpy as np\n",
    "import matplotlib.pyplot as plt\n",
    "from pandas_datareader import data as pdr\n",
    "import plotly.express as px\n",
    "import orca\n",
    "import plotly.graph_objects as go\n",
    "from scipy import stats\n",
    "import plotly.figure_factory as ff\n",
    "from sklearn.preprocessing import MinMaxScaler \n",
    "from sklearn.model_selection import train_test_split\n",
    "from sklearn.metrics import r2_score\n",
    "from tensorflow import keras\n",
    "from keras.callbacks import EarlyStopping\n",
    "%config InlineBackend.figure_format = 'png'\n",
    "%matplotlib inline"
   ]
  },
  {
   "cell_type": "code",
   "execution_count": 3,
   "metadata": {},
   "outputs": [],
   "source": [
    "# read data for yahoo stock data\n",
    "stock = 'AAPL'\n",
    "start = '2000-01-01' \n",
    "end = '2020-12-01'\n",
    "Data = pdr.get_data_yahoo(stock, start, end)\n",
    "Data = Data.sort_values(by = ['Date'])"
   ]
  },
  {
   "cell_type": "code",
   "execution_count": 4,
   "metadata": {},
   "outputs": [
    {
     "data": {
      "text/html": [
       "<div>\n",
       "<style scoped>\n",
       "    .dataframe tbody tr th:only-of-type {\n",
       "        vertical-align: middle;\n",
       "    }\n",
       "\n",
       "    .dataframe tbody tr th {\n",
       "        vertical-align: top;\n",
       "    }\n",
       "\n",
       "    .dataframe thead th {\n",
       "        text-align: right;\n",
       "    }\n",
       "</style>\n",
       "<table border=\"1\" class=\"dataframe\">\n",
       "  <thead>\n",
       "    <tr style=\"text-align: right;\">\n",
       "      <th></th>\n",
       "      <th>High</th>\n",
       "      <th>Low</th>\n",
       "      <th>Open</th>\n",
       "      <th>Close</th>\n",
       "      <th>Volume</th>\n",
       "      <th>Adj Close</th>\n",
       "    </tr>\n",
       "    <tr>\n",
       "      <th>Date</th>\n",
       "      <th></th>\n",
       "      <th></th>\n",
       "      <th></th>\n",
       "      <th></th>\n",
       "      <th></th>\n",
       "      <th></th>\n",
       "    </tr>\n",
       "  </thead>\n",
       "  <tbody>\n",
       "    <tr>\n",
       "      <th>2000-01-03</th>\n",
       "      <td>1.004464</td>\n",
       "      <td>0.907924</td>\n",
       "      <td>0.936384</td>\n",
       "      <td>0.999442</td>\n",
       "      <td>535796800.0</td>\n",
       "      <td>0.855168</td>\n",
       "    </tr>\n",
       "    <tr>\n",
       "      <th>2000-01-04</th>\n",
       "      <td>0.987723</td>\n",
       "      <td>0.903460</td>\n",
       "      <td>0.966518</td>\n",
       "      <td>0.915179</td>\n",
       "      <td>512377600.0</td>\n",
       "      <td>0.783068</td>\n",
       "    </tr>\n",
       "    <tr>\n",
       "      <th>2000-01-05</th>\n",
       "      <td>0.987165</td>\n",
       "      <td>0.919643</td>\n",
       "      <td>0.926339</td>\n",
       "      <td>0.928571</td>\n",
       "      <td>778321600.0</td>\n",
       "      <td>0.794528</td>\n",
       "    </tr>\n",
       "    <tr>\n",
       "      <th>2000-01-06</th>\n",
       "      <td>0.955357</td>\n",
       "      <td>0.848214</td>\n",
       "      <td>0.947545</td>\n",
       "      <td>0.848214</td>\n",
       "      <td>767972800.0</td>\n",
       "      <td>0.725771</td>\n",
       "    </tr>\n",
       "    <tr>\n",
       "      <th>2000-01-07</th>\n",
       "      <td>0.901786</td>\n",
       "      <td>0.852679</td>\n",
       "      <td>0.861607</td>\n",
       "      <td>0.888393</td>\n",
       "      <td>460734400.0</td>\n",
       "      <td>0.760149</td>\n",
       "    </tr>\n",
       "  </tbody>\n",
       "</table>\n",
       "</div>"
      ],
      "text/plain": [
       "                High       Low      Open     Close       Volume  Adj Close\n",
       "Date                                                                      \n",
       "2000-01-03  1.004464  0.907924  0.936384  0.999442  535796800.0   0.855168\n",
       "2000-01-04  0.987723  0.903460  0.966518  0.915179  512377600.0   0.783068\n",
       "2000-01-05  0.987165  0.919643  0.926339  0.928571  778321600.0   0.794528\n",
       "2000-01-06  0.955357  0.848214  0.947545  0.848214  767972800.0   0.725771\n",
       "2000-01-07  0.901786  0.852679  0.861607  0.888393  460734400.0   0.760149"
      ]
     },
     "metadata": {},
     "output_type": "display_data"
    },
    {
     "data": {
      "text/plain": [
       "(5263, 6)"
      ]
     },
     "metadata": {},
     "output_type": "display_data"
    }
   ],
   "source": [
    "# Display first 5 rows and data shape\n",
    "display(Data.head())\n",
    "display(Data.shape)"
   ]
  },
  {
   "cell_type": "code",
   "execution_count": 5,
   "metadata": {},
   "outputs": [
    {
     "data": {
      "text/plain": [
       "High         0\n",
       "Low          0\n",
       "Open         0\n",
       "Close        0\n",
       "Volume       0\n",
       "Adj Close    0\n",
       "dtype: int64"
      ]
     },
     "execution_count": 5,
     "metadata": {},
     "output_type": "execute_result"
    }
   ],
   "source": [
    "# Check for nan values\n",
    "Data.isnull().sum()"
   ]
  },
  {
   "cell_type": "code",
   "execution_count": 6,
   "metadata": {},
   "outputs": [
    {
     "data": {
      "text/html": [
       "<div>\n",
       "<style scoped>\n",
       "    .dataframe tbody tr th:only-of-type {\n",
       "        vertical-align: middle;\n",
       "    }\n",
       "\n",
       "    .dataframe tbody tr th {\n",
       "        vertical-align: top;\n",
       "    }\n",
       "\n",
       "    .dataframe thead th {\n",
       "        text-align: right;\n",
       "    }\n",
       "</style>\n",
       "<table border=\"1\" class=\"dataframe\">\n",
       "  <thead>\n",
       "    <tr style=\"text-align: right;\">\n",
       "      <th></th>\n",
       "      <th>High</th>\n",
       "      <th>Low</th>\n",
       "      <th>Open</th>\n",
       "      <th>Close</th>\n",
       "      <th>Volume</th>\n",
       "      <th>Adj Close</th>\n",
       "    </tr>\n",
       "  </thead>\n",
       "  <tbody>\n",
       "    <tr>\n",
       "      <th>count</th>\n",
       "      <td>5263.000000</td>\n",
       "      <td>5263.000000</td>\n",
       "      <td>5263.000000</td>\n",
       "      <td>5263.000000</td>\n",
       "      <td>5.263000e+03</td>\n",
       "      <td>5263.000000</td>\n",
       "    </tr>\n",
       "    <tr>\n",
       "      <th>mean</th>\n",
       "      <td>18.483761</td>\n",
       "      <td>18.091581</td>\n",
       "      <td>18.288782</td>\n",
       "      <td>18.294883</td>\n",
       "      <td>4.461571e+08</td>\n",
       "      <td>17.163891</td>\n",
       "    </tr>\n",
       "    <tr>\n",
       "      <th>std</th>\n",
       "      <td>23.125953</td>\n",
       "      <td>22.571547</td>\n",
       "      <td>22.849964</td>\n",
       "      <td>22.860386</td>\n",
       "      <td>3.918215e+08</td>\n",
       "      <td>22.547481</td>\n",
       "    </tr>\n",
       "    <tr>\n",
       "      <th>min</th>\n",
       "      <td>0.235536</td>\n",
       "      <td>0.227143</td>\n",
       "      <td>0.231964</td>\n",
       "      <td>0.234286</td>\n",
       "      <td>2.019780e+07</td>\n",
       "      <td>0.200465</td>\n",
       "    </tr>\n",
       "    <tr>\n",
       "      <th>25%</th>\n",
       "      <td>1.361607</td>\n",
       "      <td>1.327857</td>\n",
       "      <td>1.343929</td>\n",
       "      <td>1.344286</td>\n",
       "      <td>1.781824e+08</td>\n",
       "      <td>1.150232</td>\n",
       "    </tr>\n",
       "    <tr>\n",
       "      <th>50%</th>\n",
       "      <td>9.219286</td>\n",
       "      <td>8.921785</td>\n",
       "      <td>9.110357</td>\n",
       "      <td>9.065000</td>\n",
       "      <td>3.341184e+08</td>\n",
       "      <td>7.756426</td>\n",
       "    </tr>\n",
       "    <tr>\n",
       "      <th>75%</th>\n",
       "      <td>27.758750</td>\n",
       "      <td>27.191251</td>\n",
       "      <td>27.478749</td>\n",
       "      <td>27.441251</td>\n",
       "      <td>5.936350e+08</td>\n",
       "      <td>25.310430</td>\n",
       "    </tr>\n",
       "    <tr>\n",
       "      <th>max</th>\n",
       "      <td>137.979996</td>\n",
       "      <td>130.529999</td>\n",
       "      <td>137.589996</td>\n",
       "      <td>134.179993</td>\n",
       "      <td>7.421641e+09</td>\n",
       "      <td>133.948898</td>\n",
       "    </tr>\n",
       "  </tbody>\n",
       "</table>\n",
       "</div>"
      ],
      "text/plain": [
       "              High          Low         Open        Close        Volume  \\\n",
       "count  5263.000000  5263.000000  5263.000000  5263.000000  5.263000e+03   \n",
       "mean     18.483761    18.091581    18.288782    18.294883  4.461571e+08   \n",
       "std      23.125953    22.571547    22.849964    22.860386  3.918215e+08   \n",
       "min       0.235536     0.227143     0.231964     0.234286  2.019780e+07   \n",
       "25%       1.361607     1.327857     1.343929     1.344286  1.781824e+08   \n",
       "50%       9.219286     8.921785     9.110357     9.065000  3.341184e+08   \n",
       "75%      27.758750    27.191251    27.478749    27.441251  5.936350e+08   \n",
       "max     137.979996   130.529999   137.589996   134.179993  7.421641e+09   \n",
       "\n",
       "         Adj Close  \n",
       "count  5263.000000  \n",
       "mean     17.163891  \n",
       "std      22.547481  \n",
       "min       0.200465  \n",
       "25%       1.150232  \n",
       "50%       7.756426  \n",
       "75%      25.310430  \n",
       "max     133.948898  "
      ]
     },
     "execution_count": 6,
     "metadata": {},
     "output_type": "execute_result"
    }
   ],
   "source": [
    "# General stats for TESLA stock\n",
    "Data.describe()"
   ]
  },
  {
   "cell_type": "code",
   "execution_count": 7,
   "metadata": {},
   "outputs": [
    {
     "data": {
      "text/plain": [
       "Index(['High', 'Low', 'Open', 'Close', 'Volume', 'Adj Close'], dtype='object')"
      ]
     },
     "execution_count": 7,
     "metadata": {},
     "output_type": "execute_result"
    }
   ],
   "source": [
    "# Return Data columns\n",
    "Data.columns"
   ]
  },
  {
   "cell_type": "code",
   "execution_count": 8,
   "metadata": {},
   "outputs": [],
   "source": [
    "# Function to normalize stock prices based on their initial price\n",
    "def normalize(df):\n",
    "  x = df.copy()\n",
    "  for i in x.columns:\n",
    "    x[i] = x[i]/x[i][0]\n",
    "  return x"
   ]
  },
  {
   "cell_type": "code",
   "execution_count": 26,
   "metadata": {},
   "outputs": [],
   "source": [
    "# Function to plot interactive plots using Plotly Express\n",
    "def interactive_plot(df, title):\n",
    "  fig = px.line(title = title)\n",
    "  for i in df.columns:\n",
    "    fig.add_scatter(x = df.index, y = df[i], name = i)\n",
    "  fig.show(\"png\")"
   ]
  },
  {
   "cell_type": "code",
   "execution_count": 27,
   "metadata": {},
   "outputs": [
    {
     "data": {
      "image/png": "[encoded data removed]"
     },
     "metadata": {},
     "output_type": "display_data"
    },
    {
     "data": {
      "image/png": "[encoded data removed]"
     },
     "metadata": {},
     "output_type": "display_data"
    }
   ],
   "source": [
    "# plot interactive chart for stocks data before normalization\n",
    "interactive_plot(normalize(Data.drop(columns=['Volume'])), 'TESLA stock prices normalized')\n",
    "interactive_plot(normalize(Data[['Volume']]), 'TESLA stock volume normalized')"
   ]
  },
  {
   "cell_type": "code",
   "execution_count": 11,
   "metadata": {},
   "outputs": [],
   "source": [
    "# Function to return the input/output (target) data for AI/ML Model\n",
    "# Note that our goal is to predict the future stock price \n",
    "# Target stock price today will be tomorrow's price \n",
    "def training_window(data,look_back):\n",
    "    df = data.copy()\n",
    "    for i in range(1,look_back+1):\n",
    "        df['Close(J-'+str(i)+')'] = df['Close'].shift(i)\n",
    "    df['Target'] = df[['Close']].shift(-1)\n",
    "    df = df[look_back:-1]\n",
    "    return df"
   ]
  },
  {
   "cell_type": "code",
   "execution_count": 12,
   "metadata": {},
   "outputs": [
    {
     "data": {
      "text/html": [
       "<div>\n",
       "<style scoped>\n",
       "    .dataframe tbody tr th:only-of-type {\n",
       "        vertical-align: middle;\n",
       "    }\n",
       "\n",
       "    .dataframe tbody tr th {\n",
       "        vertical-align: top;\n",
       "    }\n",
       "\n",
       "    .dataframe thead th {\n",
       "        text-align: right;\n",
       "    }\n",
       "</style>\n",
       "<table border=\"1\" class=\"dataframe\">\n",
       "  <thead>\n",
       "    <tr style=\"text-align: right;\">\n",
       "      <th></th>\n",
       "      <th>Close</th>\n",
       "      <th>Close(J-1)</th>\n",
       "      <th>Close(J-2)</th>\n",
       "      <th>Close(J-3)</th>\n",
       "      <th>Close(J-4)</th>\n",
       "      <th>Close(J-5)</th>\n",
       "      <th>Close(J-6)</th>\n",
       "      <th>Target</th>\n",
       "    </tr>\n",
       "    <tr>\n",
       "      <th>Date</th>\n",
       "      <th></th>\n",
       "      <th></th>\n",
       "      <th></th>\n",
       "      <th></th>\n",
       "      <th></th>\n",
       "      <th></th>\n",
       "      <th></th>\n",
       "      <th></th>\n",
       "    </tr>\n",
       "  </thead>\n",
       "  <tbody>\n",
       "    <tr>\n",
       "      <th>2000-01-11</th>\n",
       "      <td>0.828125</td>\n",
       "      <td>0.872768</td>\n",
       "      <td>0.888393</td>\n",
       "      <td>0.848214</td>\n",
       "      <td>0.928571</td>\n",
       "      <td>0.915179</td>\n",
       "      <td>0.999442</td>\n",
       "      <td>0.778460</td>\n",
       "    </tr>\n",
       "    <tr>\n",
       "      <th>2000-01-12</th>\n",
       "      <td>0.778460</td>\n",
       "      <td>0.828125</td>\n",
       "      <td>0.872768</td>\n",
       "      <td>0.888393</td>\n",
       "      <td>0.848214</td>\n",
       "      <td>0.928571</td>\n",
       "      <td>0.915179</td>\n",
       "      <td>0.863839</td>\n",
       "    </tr>\n",
       "    <tr>\n",
       "      <th>2000-01-13</th>\n",
       "      <td>0.863839</td>\n",
       "      <td>0.778460</td>\n",
       "      <td>0.828125</td>\n",
       "      <td>0.872768</td>\n",
       "      <td>0.888393</td>\n",
       "      <td>0.848214</td>\n",
       "      <td>0.928571</td>\n",
       "      <td>0.896763</td>\n",
       "    </tr>\n",
       "    <tr>\n",
       "      <th>2000-01-14</th>\n",
       "      <td>0.896763</td>\n",
       "      <td>0.863839</td>\n",
       "      <td>0.778460</td>\n",
       "      <td>0.828125</td>\n",
       "      <td>0.872768</td>\n",
       "      <td>0.888393</td>\n",
       "      <td>0.848214</td>\n",
       "      <td>0.928013</td>\n",
       "    </tr>\n",
       "    <tr>\n",
       "      <th>2000-01-18</th>\n",
       "      <td>0.928013</td>\n",
       "      <td>0.896763</td>\n",
       "      <td>0.863839</td>\n",
       "      <td>0.778460</td>\n",
       "      <td>0.828125</td>\n",
       "      <td>0.872768</td>\n",
       "      <td>0.888393</td>\n",
       "      <td>0.951451</td>\n",
       "    </tr>\n",
       "    <tr>\n",
       "      <th>...</th>\n",
       "      <td>...</td>\n",
       "      <td>...</td>\n",
       "      <td>...</td>\n",
       "      <td>...</td>\n",
       "      <td>...</td>\n",
       "      <td>...</td>\n",
       "      <td>...</td>\n",
       "      <td>...</td>\n",
       "    </tr>\n",
       "    <tr>\n",
       "      <th>2020-11-23</th>\n",
       "      <td>113.849998</td>\n",
       "      <td>117.339996</td>\n",
       "      <td>118.639999</td>\n",
       "      <td>118.029999</td>\n",
       "      <td>119.389999</td>\n",
       "      <td>120.300003</td>\n",
       "      <td>119.260002</td>\n",
       "      <td>115.169998</td>\n",
       "    </tr>\n",
       "    <tr>\n",
       "      <th>2020-11-24</th>\n",
       "      <td>115.169998</td>\n",
       "      <td>113.849998</td>\n",
       "      <td>117.339996</td>\n",
       "      <td>118.639999</td>\n",
       "      <td>118.029999</td>\n",
       "      <td>119.389999</td>\n",
       "      <td>120.300003</td>\n",
       "      <td>116.029999</td>\n",
       "    </tr>\n",
       "    <tr>\n",
       "      <th>2020-11-25</th>\n",
       "      <td>116.029999</td>\n",
       "      <td>115.169998</td>\n",
       "      <td>113.849998</td>\n",
       "      <td>117.339996</td>\n",
       "      <td>118.639999</td>\n",
       "      <td>118.029999</td>\n",
       "      <td>119.389999</td>\n",
       "      <td>116.589996</td>\n",
       "    </tr>\n",
       "    <tr>\n",
       "      <th>2020-11-27</th>\n",
       "      <td>116.589996</td>\n",
       "      <td>116.029999</td>\n",
       "      <td>115.169998</td>\n",
       "      <td>113.849998</td>\n",
       "      <td>117.339996</td>\n",
       "      <td>118.639999</td>\n",
       "      <td>118.029999</td>\n",
       "      <td>119.050003</td>\n",
       "    </tr>\n",
       "    <tr>\n",
       "      <th>2020-11-30</th>\n",
       "      <td>119.050003</td>\n",
       "      <td>116.589996</td>\n",
       "      <td>116.029999</td>\n",
       "      <td>115.169998</td>\n",
       "      <td>113.849998</td>\n",
       "      <td>117.339996</td>\n",
       "      <td>118.639999</td>\n",
       "      <td>122.720001</td>\n",
       "    </tr>\n",
       "  </tbody>\n",
       "</table>\n",
       "<p>5256 rows × 8 columns</p>\n",
       "</div>"
      ],
      "text/plain": [
       "                 Close  Close(J-1)  Close(J-2)  Close(J-3)  Close(J-4)  \\\n",
       "Date                                                                     \n",
       "2000-01-11    0.828125    0.872768    0.888393    0.848214    0.928571   \n",
       "2000-01-12    0.778460    0.828125    0.872768    0.888393    0.848214   \n",
       "2000-01-13    0.863839    0.778460    0.828125    0.872768    0.888393   \n",
       "2000-01-14    0.896763    0.863839    0.778460    0.828125    0.872768   \n",
       "2000-01-18    0.928013    0.896763    0.863839    0.778460    0.828125   \n",
       "...                ...         ...         ...         ...         ...   \n",
       "2020-11-23  113.849998  117.339996  118.639999  118.029999  119.389999   \n",
       "2020-11-24  115.169998  113.849998  117.339996  118.639999  118.029999   \n",
       "2020-11-25  116.029999  115.169998  113.849998  117.339996  118.639999   \n",
       "2020-11-27  116.589996  116.029999  115.169998  113.849998  117.339996   \n",
       "2020-11-30  119.050003  116.589996  116.029999  115.169998  113.849998   \n",
       "\n",
       "            Close(J-5)  Close(J-6)      Target  \n",
       "Date                                            \n",
       "2000-01-11    0.915179    0.999442    0.778460  \n",
       "2000-01-12    0.928571    0.915179    0.863839  \n",
       "2000-01-13    0.848214    0.928571    0.896763  \n",
       "2000-01-14    0.888393    0.848214    0.928013  \n",
       "2000-01-18    0.872768    0.888393    0.951451  \n",
       "...                ...         ...         ...  \n",
       "2020-11-23  120.300003  119.260002  115.169998  \n",
       "2020-11-24  119.389999  120.300003  116.029999  \n",
       "2020-11-25  118.029999  119.389999  116.589996  \n",
       "2020-11-27  118.639999  118.029999  119.050003  \n",
       "2020-11-30  117.339996  118.639999  122.720001  \n",
       "\n",
       "[5256 rows x 8 columns]"
      ]
     },
     "execution_count": 12,
     "metadata": {},
     "output_type": "execute_result"
    }
   ],
   "source": [
    "look_back = 6\n",
    "Supervised_data = training_window(Data[['Close']], look_back)\n",
    "Supervised_data"
   ]
  },
  {
   "cell_type": "code",
   "execution_count": 13,
   "metadata": {},
   "outputs": [
    {
     "data": {
      "text/html": [
       "<div>\n",
       "<style scoped>\n",
       "    .dataframe tbody tr th:only-of-type {\n",
       "        vertical-align: middle;\n",
       "    }\n",
       "\n",
       "    .dataframe tbody tr th {\n",
       "        vertical-align: top;\n",
       "    }\n",
       "\n",
       "    .dataframe thead th {\n",
       "        text-align: right;\n",
       "    }\n",
       "</style>\n",
       "<table border=\"1\" class=\"dataframe\">\n",
       "  <thead>\n",
       "    <tr style=\"text-align: right;\">\n",
       "      <th></th>\n",
       "      <th>Close</th>\n",
       "      <th>Close(J-1)</th>\n",
       "      <th>Close(J-2)</th>\n",
       "      <th>Close(J-3)</th>\n",
       "      <th>Close(J-4)</th>\n",
       "      <th>Close(J-5)</th>\n",
       "      <th>Close(J-6)</th>\n",
       "      <th>Target</th>\n",
       "    </tr>\n",
       "    <tr>\n",
       "      <th>Date</th>\n",
       "      <th></th>\n",
       "      <th></th>\n",
       "      <th></th>\n",
       "      <th></th>\n",
       "      <th></th>\n",
       "      <th></th>\n",
       "      <th></th>\n",
       "      <th></th>\n",
       "    </tr>\n",
       "  </thead>\n",
       "  <tbody>\n",
       "    <tr>\n",
       "      <th>2000-01-11</th>\n",
       "      <td>0.828125</td>\n",
       "      <td>0.872768</td>\n",
       "      <td>0.888393</td>\n",
       "      <td>0.848214</td>\n",
       "      <td>0.928571</td>\n",
       "      <td>0.915179</td>\n",
       "      <td>0.999442</td>\n",
       "      <td>0.778460</td>\n",
       "    </tr>\n",
       "    <tr>\n",
       "      <th>2000-01-12</th>\n",
       "      <td>0.778460</td>\n",
       "      <td>0.828125</td>\n",
       "      <td>0.872768</td>\n",
       "      <td>0.888393</td>\n",
       "      <td>0.848214</td>\n",
       "      <td>0.928571</td>\n",
       "      <td>0.915179</td>\n",
       "      <td>0.863839</td>\n",
       "    </tr>\n",
       "    <tr>\n",
       "      <th>2000-01-13</th>\n",
       "      <td>0.863839</td>\n",
       "      <td>0.778460</td>\n",
       "      <td>0.828125</td>\n",
       "      <td>0.872768</td>\n",
       "      <td>0.888393</td>\n",
       "      <td>0.848214</td>\n",
       "      <td>0.928571</td>\n",
       "      <td>0.896763</td>\n",
       "    </tr>\n",
       "    <tr>\n",
       "      <th>2000-01-14</th>\n",
       "      <td>0.896763</td>\n",
       "      <td>0.863839</td>\n",
       "      <td>0.778460</td>\n",
       "      <td>0.828125</td>\n",
       "      <td>0.872768</td>\n",
       "      <td>0.888393</td>\n",
       "      <td>0.848214</td>\n",
       "      <td>0.928013</td>\n",
       "    </tr>\n",
       "    <tr>\n",
       "      <th>2000-01-18</th>\n",
       "      <td>0.928013</td>\n",
       "      <td>0.896763</td>\n",
       "      <td>0.863839</td>\n",
       "      <td>0.778460</td>\n",
       "      <td>0.828125</td>\n",
       "      <td>0.872768</td>\n",
       "      <td>0.888393</td>\n",
       "      <td>0.951451</td>\n",
       "    </tr>\n",
       "    <tr>\n",
       "      <th>...</th>\n",
       "      <td>...</td>\n",
       "      <td>...</td>\n",
       "      <td>...</td>\n",
       "      <td>...</td>\n",
       "      <td>...</td>\n",
       "      <td>...</td>\n",
       "      <td>...</td>\n",
       "      <td>...</td>\n",
       "    </tr>\n",
       "    <tr>\n",
       "      <th>2014-08-20</th>\n",
       "      <td>25.142500</td>\n",
       "      <td>25.132500</td>\n",
       "      <td>24.790001</td>\n",
       "      <td>24.495001</td>\n",
       "      <td>24.375000</td>\n",
       "      <td>24.309999</td>\n",
       "      <td>23.992500</td>\n",
       "      <td>25.145000</td>\n",
       "    </tr>\n",
       "    <tr>\n",
       "      <th>2014-08-21</th>\n",
       "      <td>25.145000</td>\n",
       "      <td>25.142500</td>\n",
       "      <td>25.132500</td>\n",
       "      <td>24.790001</td>\n",
       "      <td>24.495001</td>\n",
       "      <td>24.375000</td>\n",
       "      <td>24.309999</td>\n",
       "      <td>25.330000</td>\n",
       "    </tr>\n",
       "    <tr>\n",
       "      <th>2014-08-22</th>\n",
       "      <td>25.330000</td>\n",
       "      <td>25.145000</td>\n",
       "      <td>25.142500</td>\n",
       "      <td>25.132500</td>\n",
       "      <td>24.790001</td>\n",
       "      <td>24.495001</td>\n",
       "      <td>24.375000</td>\n",
       "      <td>25.385000</td>\n",
       "    </tr>\n",
       "    <tr>\n",
       "      <th>2014-08-25</th>\n",
       "      <td>25.385000</td>\n",
       "      <td>25.330000</td>\n",
       "      <td>25.145000</td>\n",
       "      <td>25.142500</td>\n",
       "      <td>25.132500</td>\n",
       "      <td>24.790001</td>\n",
       "      <td>24.495001</td>\n",
       "      <td>25.222500</td>\n",
       "    </tr>\n",
       "    <tr>\n",
       "      <th>2014-08-26</th>\n",
       "      <td>25.222500</td>\n",
       "      <td>25.385000</td>\n",
       "      <td>25.330000</td>\n",
       "      <td>25.145000</td>\n",
       "      <td>25.142500</td>\n",
       "      <td>25.132500</td>\n",
       "      <td>24.790001</td>\n",
       "      <td>25.532499</td>\n",
       "    </tr>\n",
       "  </tbody>\n",
       "</table>\n",
       "<p>3679 rows × 8 columns</p>\n",
       "</div>"
      ],
      "text/plain": [
       "                Close  Close(J-1)  Close(J-2)  Close(J-3)  Close(J-4)  \\\n",
       "Date                                                                    \n",
       "2000-01-11   0.828125    0.872768    0.888393    0.848214    0.928571   \n",
       "2000-01-12   0.778460    0.828125    0.872768    0.888393    0.848214   \n",
       "2000-01-13   0.863839    0.778460    0.828125    0.872768    0.888393   \n",
       "2000-01-14   0.896763    0.863839    0.778460    0.828125    0.872768   \n",
       "2000-01-18   0.928013    0.896763    0.863839    0.778460    0.828125   \n",
       "...               ...         ...         ...         ...         ...   \n",
       "2014-08-20  25.142500   25.132500   24.790001   24.495001   24.375000   \n",
       "2014-08-21  25.145000   25.142500   25.132500   24.790001   24.495001   \n",
       "2014-08-22  25.330000   25.145000   25.142500   25.132500   24.790001   \n",
       "2014-08-25  25.385000   25.330000   25.145000   25.142500   25.132500   \n",
       "2014-08-26  25.222500   25.385000   25.330000   25.145000   25.142500   \n",
       "\n",
       "            Close(J-5)  Close(J-6)     Target  \n",
       "Date                                           \n",
       "2000-01-11    0.915179    0.999442   0.778460  \n",
       "2000-01-12    0.928571    0.915179   0.863839  \n",
       "2000-01-13    0.848214    0.928571   0.896763  \n",
       "2000-01-14    0.888393    0.848214   0.928013  \n",
       "2000-01-18    0.872768    0.888393   0.951451  \n",
       "...                ...         ...        ...  \n",
       "2014-08-20   24.309999   23.992500  25.145000  \n",
       "2014-08-21   24.375000   24.309999  25.330000  \n",
       "2014-08-22   24.495001   24.375000  25.385000  \n",
       "2014-08-25   24.790001   24.495001  25.222500  \n",
       "2014-08-26   25.132500   24.790001  25.532499  \n",
       "\n",
       "[3679 rows x 8 columns]"
      ]
     },
     "metadata": {},
     "output_type": "display_data"
    },
    {
     "data": {
      "text/html": [
       "<div>\n",
       "<style scoped>\n",
       "    .dataframe tbody tr th:only-of-type {\n",
       "        vertical-align: middle;\n",
       "    }\n",
       "\n",
       "    .dataframe tbody tr th {\n",
       "        vertical-align: top;\n",
       "    }\n",
       "\n",
       "    .dataframe thead th {\n",
       "        text-align: right;\n",
       "    }\n",
       "</style>\n",
       "<table border=\"1\" class=\"dataframe\">\n",
       "  <thead>\n",
       "    <tr style=\"text-align: right;\">\n",
       "      <th></th>\n",
       "      <th>Close</th>\n",
       "      <th>Close(J-1)</th>\n",
       "      <th>Close(J-2)</th>\n",
       "      <th>Close(J-3)</th>\n",
       "      <th>Close(J-4)</th>\n",
       "      <th>Close(J-5)</th>\n",
       "      <th>Close(J-6)</th>\n",
       "      <th>Target</th>\n",
       "    </tr>\n",
       "    <tr>\n",
       "      <th>Date</th>\n",
       "      <th></th>\n",
       "      <th></th>\n",
       "      <th></th>\n",
       "      <th></th>\n",
       "      <th></th>\n",
       "      <th></th>\n",
       "      <th></th>\n",
       "      <th></th>\n",
       "    </tr>\n",
       "  </thead>\n",
       "  <tbody>\n",
       "    <tr>\n",
       "      <th>2014-08-27</th>\n",
       "      <td>25.532499</td>\n",
       "      <td>25.222500</td>\n",
       "      <td>25.385000</td>\n",
       "      <td>25.330000</td>\n",
       "      <td>25.145000</td>\n",
       "      <td>25.142500</td>\n",
       "      <td>25.132500</td>\n",
       "      <td>25.562500</td>\n",
       "    </tr>\n",
       "    <tr>\n",
       "      <th>2014-08-28</th>\n",
       "      <td>25.562500</td>\n",
       "      <td>25.532499</td>\n",
       "      <td>25.222500</td>\n",
       "      <td>25.385000</td>\n",
       "      <td>25.330000</td>\n",
       "      <td>25.145000</td>\n",
       "      <td>25.142500</td>\n",
       "      <td>25.625000</td>\n",
       "    </tr>\n",
       "    <tr>\n",
       "      <th>2014-08-29</th>\n",
       "      <td>25.625000</td>\n",
       "      <td>25.562500</td>\n",
       "      <td>25.532499</td>\n",
       "      <td>25.222500</td>\n",
       "      <td>25.385000</td>\n",
       "      <td>25.330000</td>\n",
       "      <td>25.145000</td>\n",
       "      <td>25.825001</td>\n",
       "    </tr>\n",
       "    <tr>\n",
       "      <th>2014-09-02</th>\n",
       "      <td>25.825001</td>\n",
       "      <td>25.625000</td>\n",
       "      <td>25.562500</td>\n",
       "      <td>25.532499</td>\n",
       "      <td>25.222500</td>\n",
       "      <td>25.385000</td>\n",
       "      <td>25.330000</td>\n",
       "      <td>24.735001</td>\n",
       "    </tr>\n",
       "    <tr>\n",
       "      <th>2014-09-03</th>\n",
       "      <td>24.735001</td>\n",
       "      <td>25.825001</td>\n",
       "      <td>25.625000</td>\n",
       "      <td>25.562500</td>\n",
       "      <td>25.532499</td>\n",
       "      <td>25.222500</td>\n",
       "      <td>25.385000</td>\n",
       "      <td>24.530001</td>\n",
       "    </tr>\n",
       "    <tr>\n",
       "      <th>...</th>\n",
       "      <td>...</td>\n",
       "      <td>...</td>\n",
       "      <td>...</td>\n",
       "      <td>...</td>\n",
       "      <td>...</td>\n",
       "      <td>...</td>\n",
       "      <td>...</td>\n",
       "      <td>...</td>\n",
       "    </tr>\n",
       "    <tr>\n",
       "      <th>2020-11-23</th>\n",
       "      <td>113.849998</td>\n",
       "      <td>117.339996</td>\n",
       "      <td>118.639999</td>\n",
       "      <td>118.029999</td>\n",
       "      <td>119.389999</td>\n",
       "      <td>120.300003</td>\n",
       "      <td>119.260002</td>\n",
       "      <td>115.169998</td>\n",
       "    </tr>\n",
       "    <tr>\n",
       "      <th>2020-11-24</th>\n",
       "      <td>115.169998</td>\n",
       "      <td>113.849998</td>\n",
       "      <td>117.339996</td>\n",
       "      <td>118.639999</td>\n",
       "      <td>118.029999</td>\n",
       "      <td>119.389999</td>\n",
       "      <td>120.300003</td>\n",
       "      <td>116.029999</td>\n",
       "    </tr>\n",
       "    <tr>\n",
       "      <th>2020-11-25</th>\n",
       "      <td>116.029999</td>\n",
       "      <td>115.169998</td>\n",
       "      <td>113.849998</td>\n",
       "      <td>117.339996</td>\n",
       "      <td>118.639999</td>\n",
       "      <td>118.029999</td>\n",
       "      <td>119.389999</td>\n",
       "      <td>116.589996</td>\n",
       "    </tr>\n",
       "    <tr>\n",
       "      <th>2020-11-27</th>\n",
       "      <td>116.589996</td>\n",
       "      <td>116.029999</td>\n",
       "      <td>115.169998</td>\n",
       "      <td>113.849998</td>\n",
       "      <td>117.339996</td>\n",
       "      <td>118.639999</td>\n",
       "      <td>118.029999</td>\n",
       "      <td>119.050003</td>\n",
       "    </tr>\n",
       "    <tr>\n",
       "      <th>2020-11-30</th>\n",
       "      <td>119.050003</td>\n",
       "      <td>116.589996</td>\n",
       "      <td>116.029999</td>\n",
       "      <td>115.169998</td>\n",
       "      <td>113.849998</td>\n",
       "      <td>117.339996</td>\n",
       "      <td>118.639999</td>\n",
       "      <td>122.720001</td>\n",
       "    </tr>\n",
       "  </tbody>\n",
       "</table>\n",
       "<p>1577 rows × 8 columns</p>\n",
       "</div>"
      ],
      "text/plain": [
       "                 Close  Close(J-1)  Close(J-2)  Close(J-3)  Close(J-4)  \\\n",
       "Date                                                                     \n",
       "2014-08-27   25.532499   25.222500   25.385000   25.330000   25.145000   \n",
       "2014-08-28   25.562500   25.532499   25.222500   25.385000   25.330000   \n",
       "2014-08-29   25.625000   25.562500   25.532499   25.222500   25.385000   \n",
       "2014-09-02   25.825001   25.625000   25.562500   25.532499   25.222500   \n",
       "2014-09-03   24.735001   25.825001   25.625000   25.562500   25.532499   \n",
       "...                ...         ...         ...         ...         ...   \n",
       "2020-11-23  113.849998  117.339996  118.639999  118.029999  119.389999   \n",
       "2020-11-24  115.169998  113.849998  117.339996  118.639999  118.029999   \n",
       "2020-11-25  116.029999  115.169998  113.849998  117.339996  118.639999   \n",
       "2020-11-27  116.589996  116.029999  115.169998  113.849998  117.339996   \n",
       "2020-11-30  119.050003  116.589996  116.029999  115.169998  113.849998   \n",
       "\n",
       "            Close(J-5)  Close(J-6)      Target  \n",
       "Date                                            \n",
       "2014-08-27   25.142500   25.132500   25.562500  \n",
       "2014-08-28   25.145000   25.142500   25.625000  \n",
       "2014-08-29   25.330000   25.145000   25.825001  \n",
       "2014-09-02   25.385000   25.330000   24.735001  \n",
       "2014-09-03   25.222500   25.385000   24.530001  \n",
       "...                ...         ...         ...  \n",
       "2020-11-23  120.300003  119.260002  115.169998  \n",
       "2020-11-24  119.389999  120.300003  116.029999  \n",
       "2020-11-25  118.029999  119.389999  116.589996  \n",
       "2020-11-27  118.639999  118.029999  119.050003  \n",
       "2020-11-30  117.339996  118.639999  122.720001  \n",
       "\n",
       "[1577 rows x 8 columns]"
      ]
     },
     "metadata": {},
     "output_type": "display_data"
    }
   ],
   "source": [
    "# Tarin test split\n",
    "frac_train = 0.7\n",
    "Split = int(frac_train*Supervised_data.shape[0])\n",
    "train_df = Supervised_data[:Split]\n",
    "test_df = Supervised_data[Split:]\n",
    "display(train_df)\n",
    "display(test_df)"
   ]
  },
  {
   "cell_type": "code",
   "execution_count": 14,
   "metadata": {},
   "outputs": [
    {
     "name": "stdout",
     "output_type": "stream",
     "text": [
      "X train shape is (3679, 7) and y train shape is (3679, 1)\n",
      "X test shape is (1577, 7) and y test shape is (1577, 1)\n"
     ]
    }
   ],
   "source": [
    "# Scale the data and divide it into variable X and traget y\n",
    "# Note that we will devide data into train and test before scaling to avoid data linkage\n",
    "sc = MinMaxScaler(feature_range=(0,1))\n",
    "train = sc.fit_transform(train_df)\n",
    "test = sc.fit_transform(test_df)\n",
    "X_train = train[:,:-1]\n",
    "y_train = train[:,-1:]\n",
    "X_test = test[:,:-1]\n",
    "y_test = test[:,-1:]\n",
    "print('X train shape is {} and y train shape is {}'.format(X_train.shape,y_train.shape))\n",
    "print('X test shape is {} and y test shape is {}'.format(X_test.shape,y_test.shape))"
   ]
  },
  {
   "cell_type": "code",
   "execution_count": 15,
   "metadata": {},
   "outputs": [
    {
     "data": {
      "image/png": "[encoded data removed]"
     },
     "metadata": {},
     "output_type": "display_data"
    },
    {
     "data": {
      "image/png": "[encoded data removed]"
     },
     "metadata": {},
     "output_type": "display_data"
    }
   ],
   "source": [
    "# Plot train data and test data without normalization \n",
    "fig = px.line(title = 'train and test data without normalization')\n",
    "fig.add_scatter(x = Data.index[:Split], y = train_df['Close'],mode='lines', name = 'Close price train data')\n",
    "fig.add_scatter(x = Data.index[Split:], y = test_df['Close'],mode='lines', name = 'Close price test data')\n",
    "fig.show(\"png\")\n",
    "# Plot train data and test data normalized \n",
    "fig = px.line(title = 'train and test data normalized')\n",
    "fig.add_scatter(x = Data.index[:Split], y = y_train[:,0],mode='lines', name = 'Target train data')\n",
    "fig.add_scatter(x = Data.index[Split:], y = y_test[:,0],mode='lines', name = 'Target test data')\n",
    "fig.show(\"png\")"
   ]
  },
  {
   "cell_type": "code",
   "execution_count": 16,
   "metadata": {},
   "outputs": [
    {
     "data": {
      "text/plain": [
       "((3679, 7, 1), (1577, 7, 1))"
      ]
     },
     "execution_count": 16,
     "metadata": {},
     "output_type": "execute_result"
    }
   ],
   "source": [
    "# Reshape the 1D arrays to 3D arrays to feed in the model\n",
    "X_train = np.reshape(X_train, (X_train.shape[0], X_train.shape[1], 1))\n",
    "X_test = np.reshape(X_test, (X_test.shape[0], X_test.shape[1], 1))\n",
    "X_train.shape, X_test.shape"
   ]
  },
  {
   "cell_type": "code",
   "execution_count": 17,
   "metadata": {},
   "outputs": [
    {
     "name": "stdout",
     "output_type": "stream",
     "text": [
      "WARNING:tensorflow:From C:\\ProgramData\\Anaconda3\\lib\\site-packages\\tensorflow\\python\\ops\\init_ops.py:1251: calling VarianceScaling.__init__ (from tensorflow.python.ops.init_ops) with dtype is deprecated and will be removed in a future version.\n",
      "Instructions for updating:\n",
      "Call initializer instance with the dtype argument instead of passing it to the constructor\n",
      "Model: \"model\"\n",
      "_________________________________________________________________\n",
      "Layer (type)                 Output Shape              Param #   \n",
      "=================================================================\n",
      "input_1 (InputLayer)         [(None, 7, 1)]            0         \n",
      "_________________________________________________________________\n",
      "lstm (LSTM)                  (None, 7, 150)            91200     \n",
      "_________________________________________________________________\n",
      "dropout (Dropout)            (None, 7, 150)            0         \n",
      "_________________________________________________________________\n",
      "lstm_1 (LSTM)                (None, 7, 150)            180600    \n",
      "_________________________________________________________________\n",
      "dropout_1 (Dropout)          (None, 7, 150)            0         \n",
      "_________________________________________________________________\n",
      "lstm_2 (LSTM)                (None, 150)               180600    \n",
      "_________________________________________________________________\n",
      "dense (Dense)                (None, 1)                 151       \n",
      "=================================================================\n",
      "Total params: 452,551\n",
      "Trainable params: 452,551\n",
      "Non-trainable params: 0\n",
      "_________________________________________________________________\n"
     ]
    }
   ],
   "source": [
    "from keras.regularizers import l2\n",
    "# Create the model\n",
    "inputs = keras.layers.Input(shape = (X_train.shape[1], X_train.shape[2]))\n",
    "x = keras.layers.LSTM(150, return_sequences=True, recurrent_regularizer=l2(0.01), bias_regularizer=l2(0.001))(inputs)\n",
    "x = keras.layers.Dropout(0.3)(x)\n",
    "x = keras.layers.LSTM(150, return_sequences=True, recurrent_regularizer=l2(0.01), bias_regularizer=l2(0.001))(x)\n",
    "x = keras.layers.Dropout(0.3)(x)\n",
    "x = keras.layers.LSTM(150)(x)\n",
    "outputs = keras.layers.Dense(1, activation = 'linear')(x)\n",
    "\n",
    "model = keras.Model(inputs=inputs, outputs= outputs)\n",
    "model.compile(optimizer = 'adam', loss='mse')\n",
    "model.summary()"
   ]
  },
  {
   "cell_type": "code",
   "execution_count": 18,
   "metadata": {
    "scrolled": true
   },
   "outputs": [
    {
     "name": "stdout",
     "output_type": "stream",
     "text": [
      "Train on 2943 samples, validate on 736 samples\n",
      "WARNING:tensorflow:From C:\\ProgramData\\Anaconda3\\lib\\site-packages\\tensorflow\\python\\ops\\math_grad.py:1250: add_dispatch_support.<locals>.wrapper (from tensorflow.python.ops.array_ops) is deprecated and will be removed in a future version.\n",
      "Instructions for updating:\n",
      "Use tf.where in 2.0, which has the same broadcast rule as np.where\n",
      "Epoch 1/200\n",
      "2943/2943 [==============================] - 5s 2ms/sample - loss: 1.6664 - val_loss: 0.7129\n",
      "Epoch 2/200\n",
      "2943/2943 [==============================] - 3s 939us/sample - loss: 0.4618 - val_loss: 0.3159\n",
      "Epoch 3/200\n",
      "2943/2943 [==============================] - 3s 955us/sample - loss: 0.2684 - val_loss: 0.2365\n",
      "Epoch 4/200\n",
      "2943/2943 [==============================] - 3s 932us/sample - loss: 0.2195 - val_loss: 0.2056\n",
      "Epoch 5/200\n",
      "2943/2943 [==============================] - 3s 964us/sample - loss: 0.1943 - val_loss: 0.1843\n",
      "Epoch 6/200\n",
      "2943/2943 [==============================] - 3s 949us/sample - loss: 0.1743 - val_loss: 0.1654\n",
      "Epoch 7/200\n",
      "2943/2943 [==============================] - 3s 959us/sample - loss: 0.1565 - val_loss: 0.1484\n",
      "Epoch 8/200\n",
      "2943/2943 [==============================] - 3s 1ms/sample - loss: 0.1401 - val_loss: 0.1330\n",
      "Epoch 9/200\n",
      "2943/2943 [==============================] - 3s 968us/sample - loss: 0.1251 - val_loss: 0.1183\n",
      "Epoch 10/200\n",
      "2943/2943 [==============================] - 3s 907us/sample - loss: 0.1114 - val_loss: 0.1055\n",
      "Epoch 11/200\n",
      "2943/2943 [==============================] - 3s 934us/sample - loss: 0.0988 - val_loss: 0.0941\n",
      "Epoch 12/200\n",
      "2943/2943 [==============================] - 3s 899us/sample - loss: 0.0875 - val_loss: 0.0824\n",
      "Epoch 13/200\n",
      "2943/2943 [==============================] - 3s 872us/sample - loss: 0.0771 - val_loss: 0.0727\n",
      "Epoch 14/200\n",
      "2943/2943 [==============================] - 3s 886us/sample - loss: 0.0677 - val_loss: 0.0636\n",
      "Epoch 15/200\n",
      "2943/2943 [==============================] - 3s 900us/sample - loss: 0.0593 - val_loss: 0.0557\n",
      "Epoch 16/200\n",
      "2943/2943 [==============================] - 3s 903us/sample - loss: 0.0517 - val_loss: 0.0505\n",
      "Epoch 17/200\n",
      "2943/2943 [==============================] - 3s 884us/sample - loss: 0.0449 - val_loss: 0.0421\n",
      "Epoch 18/200\n",
      "2943/2943 [==============================] - 3s 864us/sample - loss: 0.0389 - val_loss: 0.0366\n",
      "Epoch 19/200\n",
      "2943/2943 [==============================] - 2s 846us/sample - loss: 0.0335 - val_loss: 0.0313\n",
      "Epoch 20/200\n",
      "2943/2943 [==============================] - 2s 841us/sample - loss: 0.0287 - val_loss: 0.0270\n",
      "Epoch 21/200\n",
      "2943/2943 [==============================] - 3s 859us/sample - loss: 0.0245 - val_loss: 0.0238\n",
      "Epoch 22/200\n",
      "2943/2943 [==============================] - 2s 823us/sample - loss: 0.0209 - val_loss: 0.0195\n",
      "Epoch 23/200\n",
      "2943/2943 [==============================] - 2s 842us/sample - loss: 0.0177 - val_loss: 0.0165\n",
      "Epoch 24/200\n",
      "2943/2943 [==============================] - 2s 819us/sample - loss: 0.0149 - val_loss: 0.0139\n",
      "Epoch 25/200\n",
      "2943/2943 [==============================] - 2s 838us/sample - loss: 0.0125 - val_loss: 0.0119\n",
      "Epoch 26/200\n",
      "2943/2943 [==============================] - 3s 900us/sample - loss: 0.0104 - val_loss: 0.0098\n",
      "Epoch 27/200\n",
      "2943/2943 [==============================] - 3s 917us/sample - loss: 0.0086 - val_loss: 0.0083\n",
      "Epoch 28/200\n",
      "2943/2943 [==============================] - 2s 839us/sample - loss: 0.0071 - val_loss: 0.0072\n",
      "Epoch 29/200\n",
      "2943/2943 [==============================] - 2s 786us/sample - loss: 0.0058 - val_loss: 0.0061\n",
      "Epoch 30/200\n",
      "2943/2943 [==============================] - 2s 766us/sample - loss: 0.0048 - val_loss: 0.0047\n",
      "Epoch 31/200\n",
      "2943/2943 [==============================] - 2s 781us/sample - loss: 0.0039 - val_loss: 0.0038\n",
      "Epoch 32/200\n",
      "2943/2943 [==============================] - 2s 776us/sample - loss: 0.0031 - val_loss: 0.0055\n",
      "Epoch 33/200\n",
      "2943/2943 [==============================] - 2s 759us/sample - loss: 0.0025 - val_loss: 0.0032\n",
      "Epoch 34/200\n",
      "2943/2943 [==============================] - 2s 760us/sample - loss: 0.0020 - val_loss: 0.0024\n",
      "Epoch 35/200\n",
      "2943/2943 [==============================] - 2s 775us/sample - loss: 0.0016 - val_loss: 0.0025\n",
      "Epoch 36/200\n",
      "2943/2943 [==============================] - 2s 772us/sample - loss: 0.0013 - val_loss: 0.0017\n",
      "Epoch 37/200\n",
      "2943/2943 [==============================] - 2s 756us/sample - loss: 0.0010 - val_loss: 0.0013\n",
      "Epoch 38/200\n",
      "2943/2943 [==============================] - 2s 762us/sample - loss: 7.8694e-04 - val_loss: 0.0021\n",
      "Epoch 39/200\n",
      "2943/2943 [==============================] - 2s 753us/sample - loss: 6.3848e-04 - val_loss: 9.1528e-04\n",
      "Epoch 40/200\n",
      "2943/2943 [==============================] - 2s 770us/sample - loss: 5.0510e-04 - val_loss: 7.8329e-04\n",
      "Epoch 41/200\n",
      "2943/2943 [==============================] - 2s 785us/sample - loss: 4.0625e-04 - val_loss: 6.8447e-04\n",
      "Epoch 42/200\n",
      "2943/2943 [==============================] - 2s 760us/sample - loss: 3.1601e-04 - val_loss: 0.0023\n",
      "Epoch 43/200\n",
      "2943/2943 [==============================] - 2s 746us/sample - loss: 2.5397e-04 - val_loss: 5.8146e-04\n",
      "Epoch 44/200\n",
      "2943/2943 [==============================] - 2s 765us/sample - loss: 2.0918e-04 - val_loss: 5.1298e-04\n",
      "Epoch 45/200\n",
      "2943/2943 [==============================] - 2s 812us/sample - loss: 1.7947e-04 - val_loss: 0.0013\n",
      "Epoch 46/200\n",
      "2943/2943 [==============================] - 2s 740us/sample - loss: 1.5031e-04 - val_loss: 4.9221e-04\n",
      "Epoch 47/200\n",
      "2943/2943 [==============================] - 2s 736us/sample - loss: 1.1989e-04 - val_loss: 7.7861e-04\n",
      "Epoch 48/200\n",
      "2943/2943 [==============================] - 2s 738us/sample - loss: 1.4911e-04 - val_loss: 5.4084e-04\n",
      "Epoch 49/200\n",
      "2943/2943 [==============================] - 2s 733us/sample - loss: 1.0415e-04 - val_loss: 4.4279e-04\n",
      "Epoch 50/200\n",
      "2943/2943 [==============================] - 2s 743us/sample - loss: 1.0816e-04 - val_loss: 4.5734e-04\n",
      "Epoch 51/200\n",
      "2943/2943 [==============================] - 2s 758us/sample - loss: 8.7817e-05 - val_loss: 4.8706e-04\n",
      "Epoch 52/200\n",
      "2943/2943 [==============================] - 2s 732us/sample - loss: 1.0670e-04 - val_loss: 4.3516e-04\n",
      "Epoch 53/200\n",
      "2943/2943 [==============================] - 2s 730us/sample - loss: 8.1671e-05 - val_loss: 5.2590e-04\n",
      "Epoch 54/200\n",
      "2943/2943 [==============================] - 2s 729us/sample - loss: 9.5381e-05 - val_loss: 6.3703e-04\n",
      "Epoch 55/200\n",
      "2943/2943 [==============================] - 2s 720us/sample - loss: 1.2466e-04 - val_loss: 0.0011\n",
      "Epoch 56/200\n",
      "2943/2943 [==============================] - 2s 719us/sample - loss: 8.5296e-05 - val_loss: 5.9744e-04\n",
      "Epoch 57/200\n",
      "2943/2943 [==============================] - 2s 716us/sample - loss: 8.3168e-05 - val_loss: 6.5579e-04\n",
      "Epoch 58/200\n",
      "2943/2943 [==============================] - 2s 719us/sample - loss: 9.6609e-05 - val_loss: 7.3293e-04\n",
      "Epoch 59/200\n",
      "2943/2943 [==============================] - 2s 717us/sample - loss: 8.2835e-05 - val_loss: 6.4127e-04\n",
      "Epoch 60/200\n",
      "2943/2943 [==============================] - 2s 706us/sample - loss: 9.3301e-05 - val_loss: 0.0027\n",
      "Epoch 61/200\n",
      "2943/2943 [==============================] - 2s 719us/sample - loss: 7.9419e-05 - val_loss: 7.0468e-04\n",
      "Epoch 62/200\n",
      "2943/2943 [==============================] - 2s 722us/sample - loss: 9.7923e-05 - val_loss: 6.5813e-04\n",
      "Epoch 63/200\n",
      "2943/2943 [==============================] - 2s 730us/sample - loss: 7.8720e-05 - val_loss: 4.7338e-04\n",
      "Epoch 64/200\n",
      "2943/2943 [==============================] - 2s 737us/sample - loss: 8.1882e-05 - val_loss: 0.0024\n",
      "Epoch 65/200\n",
      "2943/2943 [==============================] - 2s 724us/sample - loss: 9.5045e-05 - val_loss: 7.7224e-04\n",
      "Epoch 66/200\n",
      "2943/2943 [==============================] - 2s 720us/sample - loss: 8.3252e-05 - val_loss: 0.0014\n",
      "Epoch 67/200\n",
      "2943/2943 [==============================] - 2s 739us/sample - loss: 8.0135e-05 - val_loss: 0.0010\n",
      "Epoch 68/200\n",
      "2943/2943 [==============================] - 2s 743us/sample - loss: 8.3072e-05 - val_loss: 8.8869e-04\n",
      "Epoch 69/200\n",
      "2943/2943 [==============================] - 2s 732us/sample - loss: 8.4839e-05 - val_loss: 0.0028\n",
      "Epoch 70/200\n",
      "2943/2943 [==============================] - 2s 768us/sample - loss: 7.8256e-05 - val_loss: 0.0012\n",
      "Epoch 71/200\n"
     ]
    },
    {
     "name": "stdout",
     "output_type": "stream",
     "text": [
      "2943/2943 [==============================] - 2s 734us/sample - loss: 7.9260e-05 - val_loss: 0.0010\n",
      "Epoch 72/200\n",
      "2943/2943 [==============================] - 2s 738us/sample - loss: 7.9908e-05 - val_loss: 0.0011\n",
      "Epoch 73/200\n",
      "2943/2943 [==============================] - 2s 753us/sample - loss: 7.4826e-05 - val_loss: 0.0013\n",
      "Epoch 74/200\n",
      "2943/2943 [==============================] - 2s 741us/sample - loss: 7.4921e-05 - val_loss: 6.4977e-04\n",
      "Epoch 75/200\n",
      "2943/2943 [==============================] - 2s 736us/sample - loss: 1.1894e-04 - val_loss: 0.0014\n",
      "Epoch 76/200\n",
      "2943/2943 [==============================] - 2s 734us/sample - loss: 8.9454e-05 - val_loss: 9.4914e-04\n",
      "Epoch 77/200\n",
      "2943/2943 [==============================] - 2s 740us/sample - loss: 8.1275e-05 - val_loss: 0.0028\n",
      "Epoch 78/200\n",
      "2943/2943 [==============================] - 2s 773us/sample - loss: 9.9876e-05 - val_loss: 0.0017\n",
      "Epoch 79/200\n",
      "2943/2943 [==============================] - 2s 741us/sample - loss: 1.0439e-04 - val_loss: 0.0013\n",
      "Epoch 80/200\n",
      "2943/2943 [==============================] - 2s 739us/sample - loss: 9.5303e-05 - val_loss: 8.6067e-04\n",
      "Epoch 81/200\n",
      "2943/2943 [==============================] - 2s 735us/sample - loss: 7.1946e-05 - val_loss: 0.0011\n",
      "Epoch 82/200\n",
      "2943/2943 [==============================] - 2s 749us/sample - loss: 8.3964e-05 - val_loss: 0.0019\n",
      "Epoch 83/200\n",
      "2943/2943 [==============================] - 2s 737us/sample - loss: 8.3113e-05 - val_loss: 0.0024\n",
      "Epoch 84/200\n",
      "2943/2943 [==============================] - 2s 732us/sample - loss: 8.9501e-05 - val_loss: 9.6620e-04\n",
      "Epoch 85/200\n",
      "2943/2943 [==============================] - 2s 725us/sample - loss: 8.6151e-05 - val_loss: 0.0019\n",
      "Epoch 86/200\n",
      "2943/2943 [==============================] - 2s 755us/sample - loss: 8.0035e-05 - val_loss: 0.0028\n",
      "Epoch 87/200\n",
      "2943/2943 [==============================] - 2s 780us/sample - loss: 6.7245e-05 - val_loss: 0.0016\n",
      "Epoch 88/200\n",
      "2943/2943 [==============================] - 2s 737us/sample - loss: 6.8622e-05 - val_loss: 0.0018\n",
      "Epoch 89/200\n",
      "2943/2943 [==============================] - 2s 763us/sample - loss: 8.4197e-05 - val_loss: 7.2303e-04\n",
      "Epoch 90/200\n",
      "2943/2943 [==============================] - 2s 757us/sample - loss: 8.4174e-05 - val_loss: 0.0017\n",
      "Epoch 91/200\n",
      "2943/2943 [==============================] - 2s 731us/sample - loss: 8.5750e-05 - val_loss: 0.0029\n",
      "Epoch 92/200\n",
      "2943/2943 [==============================] - 2s 754us/sample - loss: 8.1724e-05 - val_loss: 0.0028\n",
      "Epoch 93/200\n",
      "2943/2943 [==============================] - 2s 735us/sample - loss: 7.9024e-05 - val_loss: 0.0042\n",
      "Epoch 94/200\n",
      "2943/2943 [==============================] - 2s 742us/sample - loss: 1.2210e-04 - val_loss: 0.0037\n",
      "Epoch 95/200\n",
      "2943/2943 [==============================] - 2s 754us/sample - loss: 9.8902e-05 - val_loss: 0.0035\n",
      "Epoch 96/200\n",
      "2943/2943 [==============================] - 2s 763us/sample - loss: 7.4917e-05 - val_loss: 0.0028\n",
      "Epoch 97/200\n",
      "2943/2943 [==============================] - 2s 755us/sample - loss: 7.5705e-05 - val_loss: 0.0016\n",
      "Epoch 98/200\n",
      "2943/2943 [==============================] - 2s 758us/sample - loss: 1.0182e-04 - val_loss: 0.0016\n",
      "Epoch 99/200\n",
      "2943/2943 [==============================] - 2s 736us/sample - loss: 7.0230e-05 - val_loss: 0.0029\n",
      "Epoch 100/200\n",
      "2943/2943 [==============================] - 2s 747us/sample - loss: 8.6884e-05 - val_loss: 0.0070\n",
      "Epoch 101/200\n",
      "2943/2943 [==============================] - 2s 720us/sample - loss: 8.0831e-05 - val_loss: 0.0035\n",
      "Epoch 102/200\n",
      "2943/2943 [==============================] - 2s 752us/sample - loss: 6.2027e-05 - val_loss: 0.0062\n",
      "Epoch 103/200\n",
      "2943/2943 [==============================] - 2s 753us/sample - loss: 7.3511e-05 - val_loss: 0.0015\n",
      "Epoch 104/200\n",
      "2943/2943 [==============================] - 2s 780us/sample - loss: 7.8013e-05 - val_loss: 0.0027\n",
      "Epoch 105/200\n",
      "2943/2943 [==============================] - 2s 802us/sample - loss: 6.8507e-05 - val_loss: 0.0030\n",
      "Epoch 106/200\n",
      "2943/2943 [==============================] - 3s 886us/sample - loss: 6.3914e-05 - val_loss: 0.0031\n",
      "Epoch 107/200\n",
      "2943/2943 [==============================] - 2s 827us/sample - loss: 7.0155e-05 - val_loss: 0.0021\n",
      "Epoch 108/200\n",
      "2943/2943 [==============================] - 2s 804us/sample - loss: 7.7972e-05 - val_loss: 0.0029\n",
      "Epoch 109/200\n",
      "2943/2943 [==============================] - 2s 826us/sample - loss: 7.3782e-05 - val_loss: 0.0012\n",
      "Epoch 110/200\n",
      "2943/2943 [==============================] - 2s 795us/sample - loss: 7.5178e-05 - val_loss: 0.0044\n",
      "Epoch 111/200\n",
      "2943/2943 [==============================] - 3s 927us/sample - loss: 9.1206e-05 - val_loss: 0.0028\n",
      "Epoch 112/200\n",
      "2943/2943 [==============================] - 3s 1ms/sample - loss: 1.3094e-04 - val_loss: 0.0014\n",
      "Epoch 113/200\n",
      "2943/2943 [==============================] - 3s 920us/sample - loss: 8.0630e-05 - val_loss: 0.0017\n",
      "Epoch 114/200\n",
      "2943/2943 [==============================] - 3s 939us/sample - loss: 7.7796e-05 - val_loss: 0.0025\n",
      "Epoch 115/200\n",
      "2943/2943 [==============================] - 3s 862us/sample - loss: 7.8754e-05 - val_loss: 0.0026\n",
      "Epoch 116/200\n",
      "2943/2943 [==============================] - 2s 840us/sample - loss: 9.6964e-05 - val_loss: 0.0029\n",
      "Epoch 117/200\n",
      "2943/2943 [==============================] - 2s 819us/sample - loss: 8.3525e-05 - val_loss: 0.0038\n",
      "Epoch 118/200\n",
      "2943/2943 [==============================] - 3s 993us/sample - loss: 6.7450e-05 - val_loss: 0.0047\n",
      "Epoch 119/200\n",
      "2943/2943 [==============================] - 3s 909us/sample - loss: 1.0703e-04 - val_loss: 0.0038\n",
      "Epoch 120/200\n",
      "2943/2943 [==============================] - 2s 747us/sample - loss: 8.6657e-05 - val_loss: 0.0033\n",
      "Epoch 121/200\n",
      "2943/2943 [==============================] - 2s 758us/sample - loss: 8.3253e-05 - val_loss: 0.0050\n",
      "Epoch 122/200\n",
      "2943/2943 [==============================] - 2s 807us/sample - loss: 7.8036e-05 - val_loss: 0.0026\n",
      "Epoch 123/200\n",
      "2943/2943 [==============================] - 2s 780us/sample - loss: 9.9946e-05 - val_loss: 0.0022\n",
      "Epoch 124/200\n",
      "2943/2943 [==============================] - 2s 753us/sample - loss: 8.4009e-05 - val_loss: 0.0043\n",
      "Epoch 125/200\n",
      "2943/2943 [==============================] - 2s 765us/sample - loss: 7.8656e-05 - val_loss: 0.0038\n",
      "Epoch 126/200\n",
      "2943/2943 [==============================] - 2s 768us/sample - loss: 1.2522e-04 - val_loss: 0.0035\n",
      "Epoch 127/200\n",
      "2943/2943 [==============================] - 2s 736us/sample - loss: 7.2594e-05 - val_loss: 0.0033\n",
      "Epoch 128/200\n",
      "2943/2943 [==============================] - 2s 768us/sample - loss: 7.4582e-05 - val_loss: 0.0045\n",
      "Epoch 129/200\n",
      "2943/2943 [==============================] - 3s 886us/sample - loss: 7.0532e-05 - val_loss: 0.0043\n",
      "Epoch 130/200\n",
      "2943/2943 [==============================] - 2s 815us/sample - loss: 7.0552e-05 - val_loss: 0.0029\n",
      "Epoch 131/200\n",
      "2943/2943 [==============================] - 2s 826us/sample - loss: 6.9990e-05 - val_loss: 0.0058\n",
      "Epoch 132/200\n",
      "2943/2943 [==============================] - 3s 923us/sample - loss: 7.0908e-05 - val_loss: 0.0043\n",
      "Epoch 133/200\n",
      "2943/2943 [==============================] - 2s 815us/sample - loss: 8.3268e-05 - val_loss: 0.0033\n",
      "Epoch 134/200\n",
      "2943/2943 [==============================] - 2s 832us/sample - loss: 8.6511e-05 - val_loss: 0.0057\n",
      "Epoch 135/200\n",
      "2943/2943 [==============================] - 3s 889us/sample - loss: 7.9235e-05 - val_loss: 0.0049\n",
      "Epoch 136/200\n",
      "2943/2943 [==============================] - 2s 844us/sample - loss: 7.2773e-05 - val_loss: 0.0046\n",
      "Epoch 137/200\n",
      "2943/2943 [==============================] - 3s 1ms/sample - loss: 6.8305e-05 - val_loss: 0.0065\n",
      "Epoch 138/200\n",
      "2943/2943 [==============================] - 3s 868us/sample - loss: 6.8103e-05 - val_loss: 0.0064\n",
      "Epoch 139/200\n",
      "2943/2943 [==============================] - 2s 733us/sample - loss: 8.1365e-05 - val_loss: 0.0048\n",
      "Epoch 140/200\n",
      "2943/2943 [==============================] - 2s 732us/sample - loss: 7.4815e-05 - val_loss: 0.0069\n",
      "Epoch 141/200\n",
      "2943/2943 [==============================] - 2s 747us/sample - loss: 9.4105e-05 - val_loss: 0.0083\n",
      "Epoch 142/200\n",
      "2943/2943 [==============================] - 2s 830us/sample - loss: 6.4362e-05 - val_loss: 0.0057\n",
      "Epoch 143/200\n"
     ]
    },
    {
     "name": "stdout",
     "output_type": "stream",
     "text": [
      "2943/2943 [==============================] - 2s 742us/sample - loss: 7.1723e-05 - val_loss: 0.0045\n",
      "Epoch 144/200\n",
      "2943/2943 [==============================] - 2s 760us/sample - loss: 7.6891e-05 - val_loss: 0.0034\n",
      "Epoch 145/200\n",
      "2943/2943 [==============================] - 2s 792us/sample - loss: 1.1168e-04 - val_loss: 0.0058\n",
      "Epoch 146/200\n",
      "2943/2943 [==============================] - 2s 769us/sample - loss: 5.9837e-05 - val_loss: 0.0051\n",
      "Epoch 147/200\n",
      "2943/2943 [==============================] - 3s 861us/sample - loss: 7.3328e-05 - val_loss: 0.0047\n",
      "Epoch 148/200\n",
      "2943/2943 [==============================] - 2s 830us/sample - loss: 9.7781e-05 - val_loss: 0.0057\n",
      "Epoch 149/200\n",
      "2943/2943 [==============================] - 2s 806us/sample - loss: 6.7181e-05 - val_loss: 0.0054\n",
      "Epoch 150/200\n",
      "2943/2943 [==============================] - 2s 742us/sample - loss: 7.0803e-05 - val_loss: 0.0070\n",
      "Epoch 151/200\n",
      "2943/2943 [==============================] - 2s 726us/sample - loss: 8.3646e-05 - val_loss: 0.0063\n",
      "Epoch 152/200\n",
      "2943/2943 [==============================] - 2s 720us/sample - loss: 8.0280e-05 - val_loss: 0.0062\n",
      "Epoch 153/200\n",
      "2943/2943 [==============================] - 2s 719us/sample - loss: 8.6576e-05 - val_loss: 0.0074\n",
      "Epoch 154/200\n",
      "2943/2943 [==============================] - 2s 744us/sample - loss: 6.7476e-05 - val_loss: 0.0072\n",
      "Epoch 155/200\n",
      "2943/2943 [==============================] - 2s 719us/sample - loss: 1.0713e-04 - val_loss: 0.0086\n",
      "Epoch 156/200\n",
      "2943/2943 [==============================] - 2s 717us/sample - loss: 1.0591e-04 - val_loss: 0.0052\n",
      "Epoch 157/200\n",
      "2943/2943 [==============================] - 2s 715us/sample - loss: 8.9021e-05 - val_loss: 0.0055\n",
      "Epoch 158/200\n",
      "2943/2943 [==============================] - 2s 725us/sample - loss: 7.8059e-05 - val_loss: 0.0056\n",
      "Epoch 159/200\n",
      "2943/2943 [==============================] - 2s 740us/sample - loss: 7.4946e-05 - val_loss: 0.0064\n",
      "Epoch 160/200\n",
      "2943/2943 [==============================] - 3s 1ms/sample - loss: 8.4774e-05 - val_loss: 0.0057\n",
      "Epoch 161/200\n",
      "2943/2943 [==============================] - 3s 969us/sample - loss: 7.3976e-05 - val_loss: 0.0053\n",
      "Epoch 162/200\n",
      "2943/2943 [==============================] - 2s 771us/sample - loss: 6.5030e-05 - val_loss: 0.0056\n",
      "Epoch 163/200\n",
      "2943/2943 [==============================] - 2s 796us/sample - loss: 8.0614e-05 - val_loss: 0.0069\n",
      "Epoch 164/200\n",
      "2943/2943 [==============================] - 2s 806us/sample - loss: 7.1415e-05 - val_loss: 0.0069\n",
      "Epoch 165/200\n",
      "2943/2943 [==============================] - 2s 779us/sample - loss: 6.3269e-05 - val_loss: 0.0058\n",
      "Epoch 166/200\n",
      "2943/2943 [==============================] - 2s 790us/sample - loss: 6.7903e-05 - val_loss: 0.0080\n",
      "Epoch 167/200\n",
      "2943/2943 [==============================] - 2s 846us/sample - loss: 6.9412e-05 - val_loss: 0.0055\n",
      "Epoch 168/200\n",
      "2943/2943 [==============================] - 2s 783us/sample - loss: 9.0680e-05 - val_loss: 0.0101\n",
      "Epoch 169/200\n",
      "2943/2943 [==============================] - 3s 916us/sample - loss: 6.9836e-05 - val_loss: 0.0092\n",
      "Epoch 170/200\n",
      "2943/2943 [==============================] - 2s 683us/sample - loss: 8.2729e-05 - val_loss: 0.0079\n",
      "Epoch 171/200\n",
      "2943/2943 [==============================] - 2s 823us/sample - loss: 6.7476e-05 - val_loss: 0.0067\n",
      "Epoch 172/200\n",
      "2943/2943 [==============================] - 2s 777us/sample - loss: 7.5052e-05 - val_loss: 0.0091\n",
      "Epoch 173/200\n",
      "2943/2943 [==============================] - 2s 747us/sample - loss: 6.6606e-05 - val_loss: 0.0060\n",
      "Epoch 174/200\n",
      "2943/2943 [==============================] - 2s 726us/sample - loss: 7.0077e-05 - val_loss: 0.0097\n",
      "Epoch 175/200\n",
      "2943/2943 [==============================] - 2s 831us/sample - loss: 7.4679e-05 - val_loss: 0.0062\n",
      "Epoch 176/200\n",
      "2943/2943 [==============================] - 3s 901us/sample - loss: 7.3429e-05 - val_loss: 0.0092\n",
      "Epoch 177/200\n",
      "2943/2943 [==============================] - 2s 799us/sample - loss: 8.6431e-05 - val_loss: 0.0070\n",
      "Epoch 178/200\n",
      "2943/2943 [==============================] - 3s 857us/sample - loss: 7.5357e-05 - val_loss: 0.0058\n",
      "Epoch 179/200\n",
      "2943/2943 [==============================] - 2s 733us/sample - loss: 8.1221e-05 - val_loss: 0.0074\n",
      "Epoch 180/200\n",
      "2943/2943 [==============================] - 2s 718us/sample - loss: 7.0817e-05 - val_loss: 0.0066\n",
      "Epoch 181/200\n",
      "2943/2943 [==============================] - 2s 716us/sample - loss: 7.1228e-05 - val_loss: 0.0111\n",
      "Epoch 182/200\n",
      "2943/2943 [==============================] - 3s 1ms/sample - loss: 1.1048e-04 - val_loss: 0.0099\n",
      "Epoch 183/200\n",
      "2943/2943 [==============================] - 3s 945us/sample - loss: 8.6053e-05 - val_loss: 0.0076\n",
      "Epoch 184/200\n",
      "2943/2943 [==============================] - 3s 892us/sample - loss: 7.9357e-05 - val_loss: 0.0088\n",
      "Epoch 185/200\n",
      "2943/2943 [==============================] - 3s 926us/sample - loss: 6.4068e-05 - val_loss: 0.0090\n",
      "Epoch 186/200\n",
      "2943/2943 [==============================] - 3s 868us/sample - loss: 6.2354e-05 - val_loss: 0.0072\n",
      "Epoch 187/200\n",
      "2943/2943 [==============================] - 3s 947us/sample - loss: 6.9860e-05 - val_loss: 0.0084\n",
      "Epoch 188/200\n",
      "2943/2943 [==============================] - 3s 962us/sample - loss: 6.8974e-05 - val_loss: 0.0104\n",
      "Epoch 189/200\n",
      "2943/2943 [==============================] - 3s 966us/sample - loss: 6.5860e-05 - val_loss: 0.0098\n",
      "Epoch 190/200\n",
      "2943/2943 [==============================] - 3s 1ms/sample - loss: 6.9264e-05 - val_loss: 0.0080\n",
      "Epoch 191/200\n",
      "2943/2943 [==============================] - 2s 807us/sample - loss: 6.7576e-05 - val_loss: 0.0086\n",
      "Epoch 192/200\n",
      "2943/2943 [==============================] - 2s 716us/sample - loss: 6.8594e-05 - val_loss: 0.0093\n",
      "Epoch 193/200\n",
      "2943/2943 [==============================] - 2s 723us/sample - loss: 8.0706e-05 - val_loss: 0.0079\n",
      "Epoch 194/200\n",
      "2943/2943 [==============================] - 2s 738us/sample - loss: 8.2538e-05 - val_loss: 0.0078\n",
      "Epoch 195/200\n",
      "2943/2943 [==============================] - 2s 757us/sample - loss: 7.0341e-05 - val_loss: 0.0098\n",
      "Epoch 196/200\n",
      "2943/2943 [==============================] - 2s 775us/sample - loss: 6.6074e-05 - val_loss: 0.0086\n",
      "Epoch 197/200\n",
      "2943/2943 [==============================] - 2s 766us/sample - loss: 6.3894e-05 - val_loss: 0.0080\n",
      "Epoch 198/200\n",
      "2943/2943 [==============================] - 2s 728us/sample - loss: 7.8322e-05 - val_loss: 0.0110\n",
      "Epoch 199/200\n",
      "2943/2943 [==============================] - 2s 735us/sample - loss: 1.1549e-04 - val_loss: 0.0054\n",
      "Epoch 200/200\n",
      "2943/2943 [==============================] - 2s 718us/sample - loss: 9.8565e-05 - val_loss: 0.0115\n"
     ]
    }
   ],
   "source": [
    "# Train the model and save validation loss split in train\n",
    "n_epochs = 200\n",
    "es = EarlyStopping(monitor='val_loss', mode='min', verbose=1)\n",
    "history = model.fit(X_train, y_train, epochs=n_epochs, batch_size=64, validation_split=0.2)"
   ]
  },
  {
   "cell_type": "code",
   "execution_count": 19,
   "metadata": {},
   "outputs": [
    {
     "data": {
      "application/vnd.plotly.v1+json": {
       "config": {
        "plotlyServerURL": "https://plot.ly"
       },
       "data": [
        {
         "name": "loss",
         "type": "scatter",
         "x": [
          0,
          1,
          2,
          3,
          4,
          5,
          6,
          7,
          8,
          9,
          10,
          11,
          12,
          13,
          14,
          15,
          16,
          17,
          18,
          19,
          20,
          21,
          22,
          23,
          24,
          25,
          26,
          27,
          28,
          29,
          30,
          31,
          32,
          33,
          34,
          35,
          36,
          37,
          38,
          39,
          40,
          41,
          42,
          43,
          44,
          45,
          46,
          47,
          48,
          49,
          50,
          51,
          52,
          53,
          54,
          55,
          56,
          57,
          58,
          59,
          60,
          61,
          62,
          63,
          64,
          65,
          66,
          67,
          68,
          69,
          70,
          71,
          72,
          73,
          74,
          75,
          76,
          77,
          78,
          79,
          80,
          81,
          82,
          83,
          84,
          85,
          86,
          87,
          88,
          89,
          90,
          91,
          92,
          93,
          94,
          95,
          96,
          97,
          98,
          99,
          100,
          101,
          102,
          103,
          104,
          105,
          106,
          107,
          108,
          109,
          110,
          111,
          112,
          113,
          114,
          115,
          116,
          117,
          118,
          119,
          120,
          121,
          122,
          123,
          124,
          125,
          126,
          127,
          128,
          129,
          130,
          131,
          132,
          133,
          134,
          135,
          136,
          137,
          138,
          139,
          140,
          141,
          142,
          143,
          144,
          145,
          146,
          147,
          148,
          149,
          150,
          151,
          152,
          153,
          154,
          155,
          156,
          157,
          158,
          159,
          160,
          161,
          162,
          163,
          164,
          165,
          166,
          167,
          168,
          169,
          170,
          171,
          172,
          173,
          174,
          175,
          176,
          177,
          178,
          179,
          180,
          181,
          182,
          183,
          184,
          185,
          186,
          187,
          188,
          189,
          190,
          191,
          192,
          193,
          194,
          195,
          196,
          197,
          198,
          199
         ],
         "y": [
          1.6663556384303073,
          0.4617890116312129,
          0.2683752204107663,
          0.21954809398603325,
          0.19433090763658314,
          0.17433473435422006,
          0.15645573327948842,
          0.1401026627055812,
          0.12510455823546157,
          0.11136766654007944,
          0.09884950792023894,
          0.08746238428285404,
          0.07711045152874492,
          0.06773742885308892,
          0.05929346898690276,
          0.05172653567277571,
          0.044930324519152465,
          0.03886286448275925,
          0.03348741034248979,
          0.028732510108907046,
          0.024530813988453873,
          0.020888029233461693,
          0.017652690918838292,
          0.014864546687329885,
          0.01246599494180548,
          0.0103968285888717,
          0.008629895431520256,
          0.007116172021565654,
          0.00584165473027782,
          0.004760610948389854,
          0.0038759796283670805,
          0.0031456361989789104,
          0.002548251284752832,
          0.002021689350891452,
          0.001609953988817841,
          0.0012752892072681202,
          0.0010081859319306266,
          0.0007869369057496054,
          0.0006384837426589514,
          0.0005051035439466468,
          0.00040625199871602925,
          0.0003160140041206216,
          0.00025396820150567025,
          0.00020918132179292349,
          0.0001794667912581385,
          0.00015031486363615366,
          0.00011989004324098389,
          0.00014910711761182847,
          0.00010415079081947642,
          0.00010816246658235135,
          8.781743006951787e-05,
          0.00010670251394777091,
          8.167147823487023e-05,
          9.538066497581198e-05,
          0.00012466378569115787,
          8.52957201946854e-05,
          8.31676181746959e-05,
          9.660944662923472e-05,
          8.283472757301468e-05,
          9.330141903089522e-05,
          7.941893515332292e-05,
          9.792306335005913e-05,
          7.872011059143937e-05,
          8.188171424633041e-05,
          9.504515429759098e-05,
          8.325242991107074e-05,
          8.013517158241649e-05,
          8.307220133329542e-05,
          8.48394834011321e-05,
          7.825634895826744e-05,
          7.925979389287003e-05,
          7.990807526608194e-05,
          7.482635025976534e-05,
          7.492131628105202e-05,
          0.00011894050677873165,
          8.945445980825419e-05,
          8.127508743378456e-05,
          9.987569134749663e-05,
          0.0001043927888829382,
          9.530342688829573e-05,
          7.194616674245255e-05,
          8.396380549613032e-05,
          8.311333345399848e-05,
          8.950091258854231e-05,
          8.615110584699577e-05,
          8.003510980972624e-05,
          6.724539359054356e-05,
          6.862243859548427e-05,
          8.419746148876548e-05,
          8.417433886507537e-05,
          8.575046369868432e-05,
          8.172385522321523e-05,
          7.90235452525472e-05,
          0.00012209879271191223,
          9.8901639007146e-05,
          7.49170101527631e-05,
          7.570490453030047e-05,
          0.00010182197588423364,
          7.023001015127766e-05,
          8.688390120847537e-05,
          8.083069381508435e-05,
          6.20272341869341e-05,
          7.351125782738812e-05,
          7.801263050167382e-05,
          6.850702231356698e-05,
          6.391441611626265e-05,
          7.015489586214024e-05,
          7.797190800403405e-05,
          7.378181628910574e-05,
          7.51784282366111e-05,
          9.120558688173091e-05,
          0.0001309366307531952,
          8.062951717434899e-05,
          7.779625161527838e-05,
          7.875387297181056e-05,
          9.696376841449481e-05,
          8.352500721986693e-05,
          6.74498103365941e-05,
          0.00010702545104190822,
          8.665681474546366e-05,
          8.325344379833461e-05,
          7.803609433637791e-05,
          9.994617466885385e-05,
          8.400888737648136e-05,
          7.865629870143273e-05,
          0.00012521782050870975,
          7.259391148721326e-05,
          7.45824186334363e-05,
          7.053161413027331e-05,
          7.055184434695846e-05,
          6.999002667760629e-05,
          7.090763964219464e-05,
          8.326758682600679e-05,
          8.651054917956217e-05,
          7.923530090820266e-05,
          7.277298794565537e-05,
          6.830493480847965e-05,
          6.810273614169263e-05,
          8.136506065241078e-05,
          7.481505701677083e-05,
          9.410547581596242e-05,
          6.436171684963749e-05,
          7.172333553041689e-05,
          7.689097502075497e-05,
          0.00011168052878929302,
          5.983662622109102e-05,
          7.33282529686714e-05,
          9.778062448914157e-05,
          6.718089780996704e-05,
          7.080333840040921e-05,
          8.364626344174211e-05,
          8.0279651410016e-05,
          8.657600893552003e-05,
          6.7475588698411e-05,
          0.00010713215212962985,
          0.00010591291015408158,
          8.902149850396124e-05,
          7.805898253603168e-05,
          7.494621803460553e-05,
          8.477366189187965e-05,
          7.397576495448496e-05,
          6.502975895731876e-05,
          8.061390021023022e-05,
          7.14154961311508e-05,
          6.326898878130808e-05,
          6.790315602851302e-05,
          6.941173216711329e-05,
          9.068048651662212e-05,
          6.98355076911161e-05,
          8.272875495871841e-05,
          6.747568487059964e-05,
          7.505171082879383e-05,
          6.660621056869652e-05,
          7.00774896958002e-05,
          7.467903265046956e-05,
          7.342887024329583e-05,
          8.643086022169544e-05,
          7.535713040105355e-05,
          8.122091505407048e-05,
          7.081706761448184e-05,
          7.12278069426868e-05,
          0.00011047766569893771,
          8.605290575278828e-05,
          7.935693750962614e-05,
          6.406753135593406e-05,
          6.235418668132851e-05,
          6.986017382651586e-05,
          6.897395046549601e-05,
          6.58604953340299e-05,
          6.926434913724245e-05,
          6.757643955278378e-05,
          6.859387699693028e-05,
          8.070564027018864e-05,
          8.253804496719685e-05,
          7.034081553054283e-05,
          6.607404672841158e-05,
          6.389426975356743e-05,
          7.83216442807972e-05,
          0.00011549374487218132,
          9.856472371309531e-05
         ]
        },
        {
         "name": "val_loss",
         "type": "scatter",
         "x": [
          0,
          1,
          2,
          3,
          4,
          5,
          6,
          7,
          8,
          9,
          10,
          11,
          12,
          13,
          14,
          15,
          16,
          17,
          18,
          19,
          20,
          21,
          22,
          23,
          24,
          25,
          26,
          27,
          28,
          29,
          30,
          31,
          32,
          33,
          34,
          35,
          36,
          37,
          38,
          39,
          40,
          41,
          42,
          43,
          44,
          45,
          46,
          47,
          48,
          49,
          50,
          51,
          52,
          53,
          54,
          55,
          56,
          57,
          58,
          59,
          60,
          61,
          62,
          63,
          64,
          65,
          66,
          67,
          68,
          69,
          70,
          71,
          72,
          73,
          74,
          75,
          76,
          77,
          78,
          79,
          80,
          81,
          82,
          83,
          84,
          85,
          86,
          87,
          88,
          89,
          90,
          91,
          92,
          93,
          94,
          95,
          96,
          97,
          98,
          99,
          100,
          101,
          102,
          103,
          104,
          105,
          106,
          107,
          108,
          109,
          110,
          111,
          112,
          113,
          114,
          115,
          116,
          117,
          118,
          119,
          120,
          121,
          122,
          123,
          124,
          125,
          126,
          127,
          128,
          129,
          130,
          131,
          132,
          133,
          134,
          135,
          136,
          137,
          138,
          139,
          140,
          141,
          142,
          143,
          144,
          145,
          146,
          147,
          148,
          149,
          150,
          151,
          152,
          153,
          154,
          155,
          156,
          157,
          158,
          159,
          160,
          161,
          162,
          163,
          164,
          165,
          166,
          167,
          168,
          169,
          170,
          171,
          172,
          173,
          174,
          175,
          176,
          177,
          178,
          179,
          180,
          181,
          182,
          183,
          184,
          185,
          186,
          187,
          188,
          189,
          190,
          191,
          192,
          193,
          194,
          195,
          196,
          197,
          198,
          199
         ],
         "y": [
          0.7128948543382727,
          0.3158603284669959,
          0.23649255283500836,
          0.20562426421953284,
          0.18431947671848795,
          0.1653682485870693,
          0.14844998782095703,
          0.13298391259234885,
          0.11831270190684692,
          0.10547694563865662,
          0.09412918790527013,
          0.0823575203185496,
          0.0727098461078561,
          0.06362372280462929,
          0.05569024303037187,
          0.05048356027058933,
          0.0420968812768874,
          0.036613114178180695,
          0.03130929236826689,
          0.027011553473446682,
          0.023793509391986805,
          0.019534339885348858,
          0.01652778304465439,
          0.01393240487769894,
          0.011935040557190128,
          0.009787457063794136,
          0.00827546782143738,
          0.007228035682245441,
          0.006056498128758824,
          0.004748076119500658,
          0.0038191229307457156,
          0.005486892192098109,
          0.003248727151557155,
          0.0023805923537229714,
          0.002531487950245323,
          0.001728369216637119,
          0.0012752417697692695,
          0.0020765194608627453,
          0.0009152791209761863,
          0.0007832868520737342,
          0.0006844705254163431,
          0.0022806115650936313,
          0.0005814555384542631,
          0.0005129805295323224,
          0.0013019314653280637,
          0.0004922122638875052,
          0.0007786058400676626,
          0.0005408356715317653,
          0.00044279146823100746,
          0.00045734334929400813,
          0.00048706417209873706,
          0.00043516038188143915,
          0.0005259009979098388,
          0.0006370335594629464,
          0.00107541022842507,
          0.0005974426964277644,
          0.000655785005580148,
          0.000732929245872504,
          0.0006412700345010861,
          0.0026776916549905486,
          0.0007046786346978953,
          0.0006581321662372869,
          0.0004733844189499707,
          0.0023536344322011523,
          0.0007722400225010579,
          0.0014470466792219036,
          0.001012359353531476,
          0.000888686870103297,
          0.0027728566656941953,
          0.0011944779594752777,
          0.001037472302256071,
          0.0011263370119116228,
          0.0012981406382649489,
          0.0006497707800008357,
          0.0013855977500181484,
          0.0009491428449426008,
          0.00278851931469272,
          0.001704871695002784,
          0.0012571748811751604,
          0.0008606674458386134,
          0.0010928587998142061,
          0.001908320812103541,
          0.0024272401199635606,
          0.0009661963052602242,
          0.0019103405976910954,
          0.002760091907871158,
          0.0015814195225096266,
          0.0017980814445763826,
          0.0007230271382824234,
          0.001721036711545742,
          0.0029345025895568338,
          0.002776985360390466,
          0.004234488709303348,
          0.0037416678590133138,
          0.003461718761726566,
          0.0027667652390411367,
          0.00155852229901306,
          0.001633570878766477,
          0.0029477536394868207,
          0.006992313241505105,
          0.003494447603335847,
          0.006214389334554257,
          0.001542191137559712,
          0.0026771922838752685,
          0.002960741661650979,
          0.003070215411160303,
          0.0020794464659917612,
          0.0029159625486025343,
          0.0012495536964548671,
          0.004437175194692352,
          0.00284926846380467,
          0.0014179635074232583,
          0.0016978155447008169,
          0.002489402439728703,
          0.0026200951643936014,
          0.002948499699730588,
          0.0038387721870094538,
          0.0046884882385316105,
          0.0038147763268131275,
          0.0033191770072216573,
          0.004997289354872444,
          0.0025942141352140384,
          0.0022313539951067905,
          0.004330235391693271,
          0.003767704651893481,
          0.0034685871138682833,
          0.0032813087632150755,
          0.004453104232316432,
          0.004335809134594772,
          0.0029439169751561208,
          0.0058033929165938625,
          0.00434434565755984,
          0.003315761908078971,
          0.005727478262522946,
          0.004938169159804997,
          0.004563558421543111,
          0.006516985595226288,
          0.006389300926062076,
          0.004817042094857797,
          0.006897673294272112,
          0.008265323451031809,
          0.005718028699250325,
          0.004488255929849718,
          0.003358483770052376,
          0.00577247108373305,
          0.005056473588489968,
          0.004740962961121746,
          0.005718355735197016,
          0.005437828944591077,
          0.006962880775656389,
          0.006288479163270929,
          0.006173010733302521,
          0.007397682952654102,
          0.007222268406463706,
          0.00856100512749475,
          0.005210126547709755,
          0.005482531284265544,
          0.005645198980346322,
          0.006358957120581814,
          0.005682508785115636,
          0.00534505251309146,
          0.005616062361261119,
          0.006945460224929063,
          0.0068520651725323305,
          0.005753938999512921,
          0.008014225603445717,
          0.005455032254204802,
          0.010143469654671524,
          0.009187831624370554,
          0.007869405874415585,
          0.006655894118644621,
          0.009111643890323847,
          0.005968743651781393,
          0.009684521826389044,
          0.006242173440430475,
          0.009232630305316137,
          0.007033298642415068,
          0.005778299725573996,
          0.007410257649810418,
          0.006638284468942363,
          0.011094410782274992,
          0.009916813112795353,
          0.00760314151968645,
          0.008809941233662159,
          0.00903943334908589,
          0.007208966832284046,
          0.008391137153882048,
          0.010369005005644716,
          0.00979443712402945,
          0.007971147763664308,
          0.008629881412438725,
          0.009338096168864033,
          0.007856903739435516,
          0.007808506853230621,
          0.00978277291616668,
          0.008587037800284832,
          0.008013166952878237,
          0.010953464747770973,
          0.0054435344291446,
          0.01151332793676335
         ]
        }
       ],
       "layout": {
        "legend": {
         "tracegroupgap": 0
        },
        "template": {
         "data": {
          "bar": [
           {
            "error_x": {
             "color": "#2a3f5f"
            },
            "error_y": {
             "color": "#2a3f5f"
            },
            "marker": {
             "line": {
              "color": "#E5ECF6",
              "width": 0.5
             }
            },
            "type": "bar"
           }
          ],
          "barpolar": [
           {
            "marker": {
             "line": {
              "color": "#E5ECF6",
              "width": 0.5
             }
            },
            "type": "barpolar"
           }
          ],
          "carpet": [
           {
            "aaxis": {
             "endlinecolor": "#2a3f5f",
             "gridcolor": "white",
             "linecolor": "white",
             "minorgridcolor": "white",
             "startlinecolor": "#2a3f5f"
            },
            "baxis": {
             "endlinecolor": "#2a3f5f",
             "gridcolor": "white",
             "linecolor": "white",
             "minorgridcolor": "white",
             "startlinecolor": "#2a3f5f"
            },
            "type": "carpet"
           }
          ],
          "choropleth": [
           {
            "colorbar": {
             "outlinewidth": 0,
             "ticks": ""
            },
            "type": "choropleth"
           }
          ],
          "contour": [
           {
            "colorbar": {
             "outlinewidth": 0,
             "ticks": ""
            },
            "colorscale": [
             [
              0,
              "#0d0887"
             ],
             [
              0.1111111111111111,
              "#46039f"
             ],
             [
              0.2222222222222222,
              "#7201a8"
             ],
             [
              0.3333333333333333,
              "#9c179e"
             ],
             [
              0.4444444444444444,
              "#bd3786"
             ],
             [
              0.5555555555555556,
              "#d8576b"
             ],
             [
              0.6666666666666666,
              "#ed7953"
             ],
             [
              0.7777777777777778,
              "#fb9f3a"
             ],
             [
              0.8888888888888888,
              "#fdca26"
             ],
             [
              1,
              "#f0f921"
             ]
            ],
            "type": "contour"
           }
          ],
          "contourcarpet": [
           {
            "colorbar": {
             "outlinewidth": 0,
             "ticks": ""
            },
            "type": "contourcarpet"
           }
          ],
          "heatmap": [
           {
            "colorbar": {
             "outlinewidth": 0,
             "ticks": ""
            },
            "colorscale": [
             [
              0,
              "#0d0887"
             ],
             [
              0.1111111111111111,
              "#46039f"
             ],
             [
              0.2222222222222222,
              "#7201a8"
             ],
             [
              0.3333333333333333,
              "#9c179e"
             ],
             [
              0.4444444444444444,
              "#bd3786"
             ],
             [
              0.5555555555555556,
              "#d8576b"
             ],
             [
              0.6666666666666666,
              "#ed7953"
             ],
             [
              0.7777777777777778,
              "#fb9f3a"
             ],
             [
              0.8888888888888888,
              "#fdca26"
             ],
             [
              1,
              "#f0f921"
             ]
            ],
            "type": "heatmap"
           }
          ],
          "heatmapgl": [
           {
            "colorbar": {
             "outlinewidth": 0,
             "ticks": ""
            },
            "colorscale": [
             [
              0,
              "#0d0887"
             ],
             [
              0.1111111111111111,
              "#46039f"
             ],
             [
              0.2222222222222222,
              "#7201a8"
             ],
             [
              0.3333333333333333,
              "#9c179e"
             ],
             [
              0.4444444444444444,
              "#bd3786"
             ],
             [
              0.5555555555555556,
              "#d8576b"
             ],
             [
              0.6666666666666666,
              "#ed7953"
             ],
             [
              0.7777777777777778,
              "#fb9f3a"
             ],
             [
              0.8888888888888888,
              "#fdca26"
             ],
             [
              1,
              "#f0f921"
             ]
            ],
            "type": "heatmapgl"
           }
          ],
          "histogram": [
           {
            "marker": {
             "colorbar": {
              "outlinewidth": 0,
              "ticks": ""
             }
            },
            "type": "histogram"
           }
          ],
          "histogram2d": [
           {
            "colorbar": {
             "outlinewidth": 0,
             "ticks": ""
            },
            "colorscale": [
             [
              0,
              "#0d0887"
             ],
             [
              0.1111111111111111,
              "#46039f"
             ],
             [
              0.2222222222222222,
              "#7201a8"
             ],
             [
              0.3333333333333333,
              "#9c179e"
             ],
             [
              0.4444444444444444,
              "#bd3786"
             ],
             [
              0.5555555555555556,
              "#d8576b"
             ],
             [
              0.6666666666666666,
              "#ed7953"
             ],
             [
              0.7777777777777778,
              "#fb9f3a"
             ],
             [
              0.8888888888888888,
              "#fdca26"
             ],
             [
              1,
              "#f0f921"
             ]
            ],
            "type": "histogram2d"
           }
          ],
          "histogram2dcontour": [
           {
            "colorbar": {
             "outlinewidth": 0,
             "ticks": ""
            },
            "colorscale": [
             [
              0,
              "#0d0887"
             ],
             [
              0.1111111111111111,
              "#46039f"
             ],
             [
              0.2222222222222222,
              "#7201a8"
             ],
             [
              0.3333333333333333,
              "#9c179e"
             ],
             [
              0.4444444444444444,
              "#bd3786"
             ],
             [
              0.5555555555555556,
              "#d8576b"
             ],
             [
              0.6666666666666666,
              "#ed7953"
             ],
             [
              0.7777777777777778,
              "#fb9f3a"
             ],
             [
              0.8888888888888888,
              "#fdca26"
             ],
             [
              1,
              "#f0f921"
             ]
            ],
            "type": "histogram2dcontour"
           }
          ],
          "mesh3d": [
           {
            "colorbar": {
             "outlinewidth": 0,
             "ticks": ""
            },
            "type": "mesh3d"
           }
          ],
          "parcoords": [
           {
            "line": {
             "colorbar": {
              "outlinewidth": 0,
              "ticks": ""
             }
            },
            "type": "parcoords"
           }
          ],
          "pie": [
           {
            "automargin": true,
            "type": "pie"
           }
          ],
          "scatter": [
           {
            "marker": {
             "colorbar": {
              "outlinewidth": 0,
              "ticks": ""
             }
            },
            "type": "scatter"
           }
          ],
          "scatter3d": [
           {
            "line": {
             "colorbar": {
              "outlinewidth": 0,
              "ticks": ""
             }
            },
            "marker": {
             "colorbar": {
              "outlinewidth": 0,
              "ticks": ""
             }
            },
            "type": "scatter3d"
           }
          ],
          "scattercarpet": [
           {
            "marker": {
             "colorbar": {
              "outlinewidth": 0,
              "ticks": ""
             }
            },
            "type": "scattercarpet"
           }
          ],
          "scattergeo": [
           {
            "marker": {
             "colorbar": {
              "outlinewidth": 0,
              "ticks": ""
             }
            },
            "type": "scattergeo"
           }
          ],
          "scattergl": [
           {
            "marker": {
             "colorbar": {
              "outlinewidth": 0,
              "ticks": ""
             }
            },
            "type": "scattergl"
           }
          ],
          "scattermapbox": [
           {
            "marker": {
             "colorbar": {
              "outlinewidth": 0,
              "ticks": ""
             }
            },
            "type": "scattermapbox"
           }
          ],
          "scatterpolar": [
           {
            "marker": {
             "colorbar": {
              "outlinewidth": 0,
              "ticks": ""
             }
            },
            "type": "scatterpolar"
           }
          ],
          "scatterpolargl": [
           {
            "marker": {
             "colorbar": {
              "outlinewidth": 0,
              "ticks": ""
             }
            },
            "type": "scatterpolargl"
           }
          ],
          "scatterternary": [
           {
            "marker": {
             "colorbar": {
              "outlinewidth": 0,
              "ticks": ""
             }
            },
            "type": "scatterternary"
           }
          ],
          "surface": [
           {
            "colorbar": {
             "outlinewidth": 0,
             "ticks": ""
            },
            "colorscale": [
             [
              0,
              "#0d0887"
             ],
             [
              0.1111111111111111,
              "#46039f"
             ],
             [
              0.2222222222222222,
              "#7201a8"
             ],
             [
              0.3333333333333333,
              "#9c179e"
             ],
             [
              0.4444444444444444,
              "#bd3786"
             ],
             [
              0.5555555555555556,
              "#d8576b"
             ],
             [
              0.6666666666666666,
              "#ed7953"
             ],
             [
              0.7777777777777778,
              "#fb9f3a"
             ],
             [
              0.8888888888888888,
              "#fdca26"
             ],
             [
              1,
              "#f0f921"
             ]
            ],
            "type": "surface"
           }
          ],
          "table": [
           {
            "cells": {
             "fill": {
              "color": "#EBF0F8"
             },
             "line": {
              "color": "white"
             }
            },
            "header": {
             "fill": {
              "color": "#C8D4E3"
             },
             "line": {
              "color": "white"
             }
            },
            "type": "table"
           }
          ]
         },
         "layout": {
          "annotationdefaults": {
           "arrowcolor": "#2a3f5f",
           "arrowhead": 0,
           "arrowwidth": 1
          },
          "coloraxis": {
           "colorbar": {
            "outlinewidth": 0,
            "ticks": ""
           }
          },
          "colorscale": {
           "diverging": [
            [
             0,
             "#8e0152"
            ],
            [
             0.1,
             "#c51b7d"
            ],
            [
             0.2,
             "#de77ae"
            ],
            [
             0.3,
             "#f1b6da"
            ],
            [
             0.4,
             "#fde0ef"
            ],
            [
             0.5,
             "#f7f7f7"
            ],
            [
             0.6,
             "#e6f5d0"
            ],
            [
             0.7,
             "#b8e186"
            ],
            [
             0.8,
             "#7fbc41"
            ],
            [
             0.9,
             "#4d9221"
            ],
            [
             1,
             "#276419"
            ]
           ],
           "sequential": [
            [
             0,
             "#0d0887"
            ],
            [
             0.1111111111111111,
             "#46039f"
            ],
            [
             0.2222222222222222,
             "#7201a8"
            ],
            [
             0.3333333333333333,
             "#9c179e"
            ],
            [
             0.4444444444444444,
             "#bd3786"
            ],
            [
             0.5555555555555556,
             "#d8576b"
            ],
            [
             0.6666666666666666,
             "#ed7953"
            ],
            [
             0.7777777777777778,
             "#fb9f3a"
            ],
            [
             0.8888888888888888,
             "#fdca26"
            ],
            [
             1,
             "#f0f921"
            ]
           ],
           "sequentialminus": [
            [
             0,
             "#0d0887"
            ],
            [
             0.1111111111111111,
             "#46039f"
            ],
            [
             0.2222222222222222,
             "#7201a8"
            ],
            [
             0.3333333333333333,
             "#9c179e"
            ],
            [
             0.4444444444444444,
             "#bd3786"
            ],
            [
             0.5555555555555556,
             "#d8576b"
            ],
            [
             0.6666666666666666,
             "#ed7953"
            ],
            [
             0.7777777777777778,
             "#fb9f3a"
            ],
            [
             0.8888888888888888,
             "#fdca26"
            ],
            [
             1,
             "#f0f921"
            ]
           ]
          },
          "colorway": [
           "#636efa",
           "#EF553B",
           "#00cc96",
           "#ab63fa",
           "#FFA15A",
           "#19d3f3",
           "#FF6692",
           "#B6E880",
           "#FF97FF",
           "#FECB52"
          ],
          "font": {
           "color": "#2a3f5f"
          },
          "geo": {
           "bgcolor": "white",
           "lakecolor": "white",
           "landcolor": "#E5ECF6",
           "showlakes": true,
           "showland": true,
           "subunitcolor": "white"
          },
          "hoverlabel": {
           "align": "left"
          },
          "hovermode": "closest",
          "mapbox": {
           "style": "light"
          },
          "paper_bgcolor": "white",
          "plot_bgcolor": "#E5ECF6",
          "polar": {
           "angularaxis": {
            "gridcolor": "white",
            "linecolor": "white",
            "ticks": ""
           },
           "bgcolor": "#E5ECF6",
           "radialaxis": {
            "gridcolor": "white",
            "linecolor": "white",
            "ticks": ""
           }
          },
          "scene": {
           "xaxis": {
            "backgroundcolor": "#E5ECF6",
            "gridcolor": "white",
            "gridwidth": 2,
            "linecolor": "white",
            "showbackground": true,
            "ticks": "",
            "zerolinecolor": "white"
           },
           "yaxis": {
            "backgroundcolor": "#E5ECF6",
            "gridcolor": "white",
            "gridwidth": 2,
            "linecolor": "white",
            "showbackground": true,
            "ticks": "",
            "zerolinecolor": "white"
           },
           "zaxis": {
            "backgroundcolor": "#E5ECF6",
            "gridcolor": "white",
            "gridwidth": 2,
            "linecolor": "white",
            "showbackground": true,
            "ticks": "",
            "zerolinecolor": "white"
           }
          },
          "shapedefaults": {
           "line": {
            "color": "#2a3f5f"
           }
          },
          "ternary": {
           "aaxis": {
            "gridcolor": "white",
            "linecolor": "white",
            "ticks": ""
           },
           "baxis": {
            "gridcolor": "white",
            "linecolor": "white",
            "ticks": ""
           },
           "bgcolor": "#E5ECF6",
           "caxis": {
            "gridcolor": "white",
            "linecolor": "white",
            "ticks": ""
           }
          },
          "title": {
           "x": 0.05
          },
          "xaxis": {
           "automargin": true,
           "gridcolor": "white",
           "linecolor": "white",
           "ticks": "",
           "title": {
            "standoff": 15
           },
           "zerolinecolor": "white",
           "zerolinewidth": 2
          },
          "yaxis": {
           "automargin": true,
           "gridcolor": "white",
           "linecolor": "white",
           "ticks": "",
           "title": {
            "standoff": 15
           },
           "zerolinecolor": "white",
           "zerolinewidth": 2
          }
         }
        },
        "title": {
         "text": "Model Loss progress During Training"
        },
        "xaxis": {
         "anchor": "y",
         "domain": [
          0,
          1
         ]
        },
        "yaxis": {
         "anchor": "x",
         "domain": [
          0,
          1
         ]
        }
       }
      },
      "text/html": [
       "<div>\n",
       "        \n",
       "        \n",
       "            <div id=\"15794bcc-2492-44f5-8dbb-8ef9a9b4917d\" class=\"plotly-graph-div\" style=\"height:525px; width:100%;\"></div>\n",
       "            <script type=\"text/javascript\">\n",
       "                require([\"plotly\"], function(Plotly) {\n",
       "                    window.PLOTLYENV=window.PLOTLYENV || {};\n",
       "                    \n",
       "                if (document.getElementById(\"15794bcc-2492-44f5-8dbb-8ef9a9b4917d\")) {\n",
       "                    Plotly.newPlot(\n",
       "                        '15794bcc-2492-44f5-8dbb-8ef9a9b4917d',\n",
       "                        [{\"name\": \"loss\", \"type\": \"scatter\", \"x\": [0, 1, 2, 3, 4, 5, 6, 7, 8, 9, 10, 11, 12, 13, 14, 15, 16, 17, 18, 19, 20, 21, 22, 23, 24, 25, 26, 27, 28, 29, 30, 31, 32, 33, 34, 35, 36, 37, 38, 39, 40, 41, 42, 43, 44, 45, 46, 47, 48, 49, 50, 51, 52, 53, 54, 55, 56, 57, 58, 59, 60, 61, 62, 63, 64, 65, 66, 67, 68, 69, 70, 71, 72, 73, 74, 75, 76, 77, 78, 79, 80, 81, 82, 83, 84, 85, 86, 87, 88, 89, 90, 91, 92, 93, 94, 95, 96, 97, 98, 99, 100, 101, 102, 103, 104, 105, 106, 107, 108, 109, 110, 111, 112, 113, 114, 115, 116, 117, 118, 119, 120, 121, 122, 123, 124, 125, 126, 127, 128, 129, 130, 131, 132, 133, 134, 135, 136, 137, 138, 139, 140, 141, 142, 143, 144, 145, 146, 147, 148, 149, 150, 151, 152, 153, 154, 155, 156, 157, 158, 159, 160, 161, 162, 163, 164, 165, 166, 167, 168, 169, 170, 171, 172, 173, 174, 175, 176, 177, 178, 179, 180, 181, 182, 183, 184, 185, 186, 187, 188, 189, 190, 191, 192, 193, 194, 195, 196, 197, 198, 199], \"y\": [1.6663556384303073, 0.4617890116312129, 0.2683752204107663, 0.21954809398603325, 0.19433090763658314, 0.17433473435422006, 0.15645573327948842, 0.1401026627055812, 0.12510455823546157, 0.11136766654007944, 0.09884950792023894, 0.08746238428285404, 0.07711045152874492, 0.06773742885308892, 0.05929346898690276, 0.05172653567277571, 0.044930324519152465, 0.03886286448275925, 0.03348741034248979, 0.028732510108907046, 0.024530813988453873, 0.020888029233461693, 0.017652690918838292, 0.014864546687329885, 0.01246599494180548, 0.0103968285888717, 0.008629895431520256, 0.007116172021565654, 0.00584165473027782, 0.004760610948389854, 0.0038759796283670805, 0.0031456361989789104, 0.002548251284752832, 0.002021689350891452, 0.001609953988817841, 0.0012752892072681202, 0.0010081859319306266, 0.0007869369057496054, 0.0006384837426589514, 0.0005051035439466468, 0.00040625199871602925, 0.0003160140041206216, 0.00025396820150567025, 0.00020918132179292349, 0.0001794667912581385, 0.00015031486363615366, 0.00011989004324098389, 0.00014910711761182847, 0.00010415079081947642, 0.00010816246658235135, 8.781743006951787e-05, 0.00010670251394777091, 8.167147823487023e-05, 9.538066497581198e-05, 0.00012466378569115787, 8.52957201946854e-05, 8.31676181746959e-05, 9.660944662923472e-05, 8.283472757301468e-05, 9.330141903089522e-05, 7.941893515332292e-05, 9.792306335005913e-05, 7.872011059143937e-05, 8.188171424633041e-05, 9.504515429759098e-05, 8.325242991107074e-05, 8.013517158241649e-05, 8.307220133329542e-05, 8.48394834011321e-05, 7.825634895826744e-05, 7.925979389287003e-05, 7.990807526608194e-05, 7.482635025976534e-05, 7.492131628105202e-05, 0.00011894050677873165, 8.945445980825419e-05, 8.127508743378456e-05, 9.987569134749663e-05, 0.0001043927888829382, 9.530342688829573e-05, 7.194616674245255e-05, 8.396380549613032e-05, 8.311333345399848e-05, 8.950091258854231e-05, 8.615110584699577e-05, 8.003510980972624e-05, 6.724539359054356e-05, 6.862243859548427e-05, 8.419746148876548e-05, 8.417433886507537e-05, 8.575046369868432e-05, 8.172385522321523e-05, 7.90235452525472e-05, 0.00012209879271191223, 9.8901639007146e-05, 7.49170101527631e-05, 7.570490453030047e-05, 0.00010182197588423364, 7.023001015127766e-05, 8.688390120847537e-05, 8.083069381508435e-05, 6.20272341869341e-05, 7.351125782738812e-05, 7.801263050167382e-05, 6.850702231356698e-05, 6.391441611626265e-05, 7.015489586214024e-05, 7.797190800403405e-05, 7.378181628910574e-05, 7.51784282366111e-05, 9.120558688173091e-05, 0.0001309366307531952, 8.062951717434899e-05, 7.779625161527838e-05, 7.875387297181056e-05, 9.696376841449481e-05, 8.352500721986693e-05, 6.74498103365941e-05, 0.00010702545104190822, 8.665681474546366e-05, 8.325344379833461e-05, 7.803609433637791e-05, 9.994617466885385e-05, 8.400888737648136e-05, 7.865629870143273e-05, 0.00012521782050870975, 7.259391148721326e-05, 7.45824186334363e-05, 7.053161413027331e-05, 7.055184434695846e-05, 6.999002667760629e-05, 7.090763964219464e-05, 8.326758682600679e-05, 8.651054917956217e-05, 7.923530090820266e-05, 7.277298794565537e-05, 6.830493480847965e-05, 6.810273614169263e-05, 8.136506065241078e-05, 7.481505701677083e-05, 9.410547581596242e-05, 6.436171684963749e-05, 7.172333553041689e-05, 7.689097502075497e-05, 0.00011168052878929302, 5.983662622109102e-05, 7.33282529686714e-05, 9.778062448914157e-05, 6.718089780996704e-05, 7.080333840040921e-05, 8.364626344174211e-05, 8.0279651410016e-05, 8.657600893552003e-05, 6.7475588698411e-05, 0.00010713215212962985, 0.00010591291015408158, 8.902149850396124e-05, 7.805898253603168e-05, 7.494621803460553e-05, 8.477366189187965e-05, 7.397576495448496e-05, 6.502975895731876e-05, 8.061390021023022e-05, 7.14154961311508e-05, 6.326898878130808e-05, 6.790315602851302e-05, 6.941173216711329e-05, 9.068048651662212e-05, 6.98355076911161e-05, 8.272875495871841e-05, 6.747568487059964e-05, 7.505171082879383e-05, 6.660621056869652e-05, 7.00774896958002e-05, 7.467903265046956e-05, 7.342887024329583e-05, 8.643086022169544e-05, 7.535713040105355e-05, 8.122091505407048e-05, 7.081706761448184e-05, 7.12278069426868e-05, 0.00011047766569893771, 8.605290575278828e-05, 7.935693750962614e-05, 6.406753135593406e-05, 6.235418668132851e-05, 6.986017382651586e-05, 6.897395046549601e-05, 6.58604953340299e-05, 6.926434913724245e-05, 6.757643955278378e-05, 6.859387699693028e-05, 8.070564027018864e-05, 8.253804496719685e-05, 7.034081553054283e-05, 6.607404672841158e-05, 6.389426975356743e-05, 7.83216442807972e-05, 0.00011549374487218132, 9.856472371309531e-05]}, {\"name\": \"val_loss\", \"type\": \"scatter\", \"x\": [0, 1, 2, 3, 4, 5, 6, 7, 8, 9, 10, 11, 12, 13, 14, 15, 16, 17, 18, 19, 20, 21, 22, 23, 24, 25, 26, 27, 28, 29, 30, 31, 32, 33, 34, 35, 36, 37, 38, 39, 40, 41, 42, 43, 44, 45, 46, 47, 48, 49, 50, 51, 52, 53, 54, 55, 56, 57, 58, 59, 60, 61, 62, 63, 64, 65, 66, 67, 68, 69, 70, 71, 72, 73, 74, 75, 76, 77, 78, 79, 80, 81, 82, 83, 84, 85, 86, 87, 88, 89, 90, 91, 92, 93, 94, 95, 96, 97, 98, 99, 100, 101, 102, 103, 104, 105, 106, 107, 108, 109, 110, 111, 112, 113, 114, 115, 116, 117, 118, 119, 120, 121, 122, 123, 124, 125, 126, 127, 128, 129, 130, 131, 132, 133, 134, 135, 136, 137, 138, 139, 140, 141, 142, 143, 144, 145, 146, 147, 148, 149, 150, 151, 152, 153, 154, 155, 156, 157, 158, 159, 160, 161, 162, 163, 164, 165, 166, 167, 168, 169, 170, 171, 172, 173, 174, 175, 176, 177, 178, 179, 180, 181, 182, 183, 184, 185, 186, 187, 188, 189, 190, 191, 192, 193, 194, 195, 196, 197, 198, 199], \"y\": [0.7128948543382727, 0.3158603284669959, 0.23649255283500836, 0.20562426421953284, 0.18431947671848795, 0.1653682485870693, 0.14844998782095703, 0.13298391259234885, 0.11831270190684692, 0.10547694563865662, 0.09412918790527013, 0.0823575203185496, 0.0727098461078561, 0.06362372280462929, 0.05569024303037187, 0.05048356027058933, 0.0420968812768874, 0.036613114178180695, 0.03130929236826689, 0.027011553473446682, 0.023793509391986805, 0.019534339885348858, 0.01652778304465439, 0.01393240487769894, 0.011935040557190128, 0.009787457063794136, 0.00827546782143738, 0.007228035682245441, 0.006056498128758824, 0.004748076119500658, 0.0038191229307457156, 0.005486892192098109, 0.003248727151557155, 0.0023805923537229714, 0.002531487950245323, 0.001728369216637119, 0.0012752417697692695, 0.0020765194608627453, 0.0009152791209761863, 0.0007832868520737342, 0.0006844705254163431, 0.0022806115650936313, 0.0005814555384542631, 0.0005129805295323224, 0.0013019314653280637, 0.0004922122638875052, 0.0007786058400676626, 0.0005408356715317653, 0.00044279146823100746, 0.00045734334929400813, 0.00048706417209873706, 0.00043516038188143915, 0.0005259009979098388, 0.0006370335594629464, 0.00107541022842507, 0.0005974426964277644, 0.000655785005580148, 0.000732929245872504, 0.0006412700345010861, 0.0026776916549905486, 0.0007046786346978953, 0.0006581321662372869, 0.0004733844189499707, 0.0023536344322011523, 0.0007722400225010579, 0.0014470466792219036, 0.001012359353531476, 0.000888686870103297, 0.0027728566656941953, 0.0011944779594752777, 0.001037472302256071, 0.0011263370119116228, 0.0012981406382649489, 0.0006497707800008357, 0.0013855977500181484, 0.0009491428449426008, 0.00278851931469272, 0.001704871695002784, 0.0012571748811751604, 0.0008606674458386134, 0.0010928587998142061, 0.001908320812103541, 0.0024272401199635606, 0.0009661963052602242, 0.0019103405976910954, 0.002760091907871158, 0.0015814195225096266, 0.0017980814445763826, 0.0007230271382824234, 0.001721036711545742, 0.0029345025895568338, 0.002776985360390466, 0.004234488709303348, 0.0037416678590133138, 0.003461718761726566, 0.0027667652390411367, 0.00155852229901306, 0.001633570878766477, 0.0029477536394868207, 0.006992313241505105, 0.003494447603335847, 0.006214389334554257, 0.001542191137559712, 0.0026771922838752685, 0.002960741661650979, 0.003070215411160303, 0.0020794464659917612, 0.0029159625486025343, 0.0012495536964548671, 0.004437175194692352, 0.00284926846380467, 0.0014179635074232583, 0.0016978155447008169, 0.002489402439728703, 0.0026200951643936014, 0.002948499699730588, 0.0038387721870094538, 0.0046884882385316105, 0.0038147763268131275, 0.0033191770072216573, 0.004997289354872444, 0.0025942141352140384, 0.0022313539951067905, 0.004330235391693271, 0.003767704651893481, 0.0034685871138682833, 0.0032813087632150755, 0.004453104232316432, 0.004335809134594772, 0.0029439169751561208, 0.0058033929165938625, 0.00434434565755984, 0.003315761908078971, 0.005727478262522946, 0.004938169159804997, 0.004563558421543111, 0.006516985595226288, 0.006389300926062076, 0.004817042094857797, 0.006897673294272112, 0.008265323451031809, 0.005718028699250325, 0.004488255929849718, 0.003358483770052376, 0.00577247108373305, 0.005056473588489968, 0.004740962961121746, 0.005718355735197016, 0.005437828944591077, 0.006962880775656389, 0.006288479163270929, 0.006173010733302521, 0.007397682952654102, 0.007222268406463706, 0.00856100512749475, 0.005210126547709755, 0.005482531284265544, 0.005645198980346322, 0.006358957120581814, 0.005682508785115636, 0.00534505251309146, 0.005616062361261119, 0.006945460224929063, 0.0068520651725323305, 0.005753938999512921, 0.008014225603445717, 0.005455032254204802, 0.010143469654671524, 0.009187831624370554, 0.007869405874415585, 0.006655894118644621, 0.009111643890323847, 0.005968743651781393, 0.009684521826389044, 0.006242173440430475, 0.009232630305316137, 0.007033298642415068, 0.005778299725573996, 0.007410257649810418, 0.006638284468942363, 0.011094410782274992, 0.009916813112795353, 0.00760314151968645, 0.008809941233662159, 0.00903943334908589, 0.007208966832284046, 0.008391137153882048, 0.010369005005644716, 0.00979443712402945, 0.007971147763664308, 0.008629881412438725, 0.009338096168864033, 0.007856903739435516, 0.007808506853230621, 0.00978277291616668, 0.008587037800284832, 0.008013166952878237, 0.010953464747770973, 0.0054435344291446, 0.01151332793676335]}],\n",
       "                        {\"legend\": {\"tracegroupgap\": 0}, \"template\": {\"data\": {\"bar\": [{\"error_x\": {\"color\": \"#2a3f5f\"}, \"error_y\": {\"color\": \"#2a3f5f\"}, \"marker\": {\"line\": {\"color\": \"#E5ECF6\", \"width\": 0.5}}, \"type\": \"bar\"}], \"barpolar\": [{\"marker\": {\"line\": {\"color\": \"#E5ECF6\", \"width\": 0.5}}, \"type\": \"barpolar\"}], \"carpet\": [{\"aaxis\": {\"endlinecolor\": \"#2a3f5f\", \"gridcolor\": \"white\", \"linecolor\": \"white\", \"minorgridcolor\": \"white\", \"startlinecolor\": \"#2a3f5f\"}, \"baxis\": {\"endlinecolor\": \"#2a3f5f\", \"gridcolor\": \"white\", \"linecolor\": \"white\", \"minorgridcolor\": \"white\", \"startlinecolor\": \"#2a3f5f\"}, \"type\": \"carpet\"}], \"choropleth\": [{\"colorbar\": {\"outlinewidth\": 0, \"ticks\": \"\"}, \"type\": \"choropleth\"}], \"contour\": [{\"colorbar\": {\"outlinewidth\": 0, \"ticks\": \"\"}, \"colorscale\": [[0.0, \"#0d0887\"], [0.1111111111111111, \"#46039f\"], [0.2222222222222222, \"#7201a8\"], [0.3333333333333333, \"#9c179e\"], [0.4444444444444444, \"#bd3786\"], [0.5555555555555556, \"#d8576b\"], [0.6666666666666666, \"#ed7953\"], [0.7777777777777778, \"#fb9f3a\"], [0.8888888888888888, \"#fdca26\"], [1.0, \"#f0f921\"]], \"type\": \"contour\"}], \"contourcarpet\": [{\"colorbar\": {\"outlinewidth\": 0, \"ticks\": \"\"}, \"type\": \"contourcarpet\"}], \"heatmap\": [{\"colorbar\": {\"outlinewidth\": 0, \"ticks\": \"\"}, \"colorscale\": [[0.0, \"#0d0887\"], [0.1111111111111111, \"#46039f\"], [0.2222222222222222, \"#7201a8\"], [0.3333333333333333, \"#9c179e\"], [0.4444444444444444, \"#bd3786\"], [0.5555555555555556, \"#d8576b\"], [0.6666666666666666, \"#ed7953\"], [0.7777777777777778, \"#fb9f3a\"], [0.8888888888888888, \"#fdca26\"], [1.0, \"#f0f921\"]], \"type\": \"heatmap\"}], \"heatmapgl\": [{\"colorbar\": {\"outlinewidth\": 0, \"ticks\": \"\"}, \"colorscale\": [[0.0, \"#0d0887\"], [0.1111111111111111, \"#46039f\"], [0.2222222222222222, \"#7201a8\"], [0.3333333333333333, \"#9c179e\"], [0.4444444444444444, \"#bd3786\"], [0.5555555555555556, \"#d8576b\"], [0.6666666666666666, \"#ed7953\"], [0.7777777777777778, \"#fb9f3a\"], [0.8888888888888888, \"#fdca26\"], [1.0, \"#f0f921\"]], \"type\": \"heatmapgl\"}], \"histogram\": [{\"marker\": {\"colorbar\": {\"outlinewidth\": 0, \"ticks\": \"\"}}, \"type\": \"histogram\"}], \"histogram2d\": [{\"colorbar\": {\"outlinewidth\": 0, \"ticks\": \"\"}, \"colorscale\": [[0.0, \"#0d0887\"], [0.1111111111111111, \"#46039f\"], [0.2222222222222222, \"#7201a8\"], [0.3333333333333333, \"#9c179e\"], [0.4444444444444444, \"#bd3786\"], [0.5555555555555556, \"#d8576b\"], [0.6666666666666666, \"#ed7953\"], [0.7777777777777778, \"#fb9f3a\"], [0.8888888888888888, \"#fdca26\"], [1.0, \"#f0f921\"]], \"type\": \"histogram2d\"}], \"histogram2dcontour\": [{\"colorbar\": {\"outlinewidth\": 0, \"ticks\": \"\"}, \"colorscale\": [[0.0, \"#0d0887\"], [0.1111111111111111, \"#46039f\"], [0.2222222222222222, \"#7201a8\"], [0.3333333333333333, \"#9c179e\"], [0.4444444444444444, \"#bd3786\"], [0.5555555555555556, \"#d8576b\"], [0.6666666666666666, \"#ed7953\"], [0.7777777777777778, \"#fb9f3a\"], [0.8888888888888888, \"#fdca26\"], [1.0, \"#f0f921\"]], \"type\": \"histogram2dcontour\"}], \"mesh3d\": [{\"colorbar\": {\"outlinewidth\": 0, \"ticks\": \"\"}, \"type\": \"mesh3d\"}], \"parcoords\": [{\"line\": {\"colorbar\": {\"outlinewidth\": 0, \"ticks\": \"\"}}, \"type\": \"parcoords\"}], \"pie\": [{\"automargin\": true, \"type\": \"pie\"}], \"scatter\": [{\"marker\": {\"colorbar\": {\"outlinewidth\": 0, \"ticks\": \"\"}}, \"type\": \"scatter\"}], \"scatter3d\": [{\"line\": {\"colorbar\": {\"outlinewidth\": 0, \"ticks\": \"\"}}, \"marker\": {\"colorbar\": {\"outlinewidth\": 0, \"ticks\": \"\"}}, \"type\": \"scatter3d\"}], \"scattercarpet\": [{\"marker\": {\"colorbar\": {\"outlinewidth\": 0, \"ticks\": \"\"}}, \"type\": \"scattercarpet\"}], \"scattergeo\": [{\"marker\": {\"colorbar\": {\"outlinewidth\": 0, \"ticks\": \"\"}}, \"type\": \"scattergeo\"}], \"scattergl\": [{\"marker\": {\"colorbar\": {\"outlinewidth\": 0, \"ticks\": \"\"}}, \"type\": \"scattergl\"}], \"scattermapbox\": [{\"marker\": {\"colorbar\": {\"outlinewidth\": 0, \"ticks\": \"\"}}, \"type\": \"scattermapbox\"}], \"scatterpolar\": [{\"marker\": {\"colorbar\": {\"outlinewidth\": 0, \"ticks\": \"\"}}, \"type\": \"scatterpolar\"}], \"scatterpolargl\": [{\"marker\": {\"colorbar\": {\"outlinewidth\": 0, \"ticks\": \"\"}}, \"type\": \"scatterpolargl\"}], \"scatterternary\": [{\"marker\": {\"colorbar\": {\"outlinewidth\": 0, \"ticks\": \"\"}}, \"type\": \"scatterternary\"}], \"surface\": [{\"colorbar\": {\"outlinewidth\": 0, \"ticks\": \"\"}, \"colorscale\": [[0.0, \"#0d0887\"], [0.1111111111111111, \"#46039f\"], [0.2222222222222222, \"#7201a8\"], [0.3333333333333333, \"#9c179e\"], [0.4444444444444444, \"#bd3786\"], [0.5555555555555556, \"#d8576b\"], [0.6666666666666666, \"#ed7953\"], [0.7777777777777778, \"#fb9f3a\"], [0.8888888888888888, \"#fdca26\"], [1.0, \"#f0f921\"]], \"type\": \"surface\"}], \"table\": [{\"cells\": {\"fill\": {\"color\": \"#EBF0F8\"}, \"line\": {\"color\": \"white\"}}, \"header\": {\"fill\": {\"color\": \"#C8D4E3\"}, \"line\": {\"color\": \"white\"}}, \"type\": \"table\"}]}, \"layout\": {\"annotationdefaults\": {\"arrowcolor\": \"#2a3f5f\", \"arrowhead\": 0, \"arrowwidth\": 1}, \"coloraxis\": {\"colorbar\": {\"outlinewidth\": 0, \"ticks\": \"\"}}, \"colorscale\": {\"diverging\": [[0, \"#8e0152\"], [0.1, \"#c51b7d\"], [0.2, \"#de77ae\"], [0.3, \"#f1b6da\"], [0.4, \"#fde0ef\"], [0.5, \"#f7f7f7\"], [0.6, \"#e6f5d0\"], [0.7, \"#b8e186\"], [0.8, \"#7fbc41\"], [0.9, \"#4d9221\"], [1, \"#276419\"]], \"sequential\": [[0.0, \"#0d0887\"], [0.1111111111111111, \"#46039f\"], [0.2222222222222222, \"#7201a8\"], [0.3333333333333333, \"#9c179e\"], [0.4444444444444444, \"#bd3786\"], [0.5555555555555556, \"#d8576b\"], [0.6666666666666666, \"#ed7953\"], [0.7777777777777778, \"#fb9f3a\"], [0.8888888888888888, \"#fdca26\"], [1.0, \"#f0f921\"]], \"sequentialminus\": [[0.0, \"#0d0887\"], [0.1111111111111111, \"#46039f\"], [0.2222222222222222, \"#7201a8\"], [0.3333333333333333, \"#9c179e\"], [0.4444444444444444, \"#bd3786\"], [0.5555555555555556, \"#d8576b\"], [0.6666666666666666, \"#ed7953\"], [0.7777777777777778, \"#fb9f3a\"], [0.8888888888888888, \"#fdca26\"], [1.0, \"#f0f921\"]]}, \"colorway\": [\"#636efa\", \"#EF553B\", \"#00cc96\", \"#ab63fa\", \"#FFA15A\", \"#19d3f3\", \"#FF6692\", \"#B6E880\", \"#FF97FF\", \"#FECB52\"], \"font\": {\"color\": \"#2a3f5f\"}, \"geo\": {\"bgcolor\": \"white\", \"lakecolor\": \"white\", \"landcolor\": \"#E5ECF6\", \"showlakes\": true, \"showland\": true, \"subunitcolor\": \"white\"}, \"hoverlabel\": {\"align\": \"left\"}, \"hovermode\": \"closest\", \"mapbox\": {\"style\": \"light\"}, \"paper_bgcolor\": \"white\", \"plot_bgcolor\": \"#E5ECF6\", \"polar\": {\"angularaxis\": {\"gridcolor\": \"white\", \"linecolor\": \"white\", \"ticks\": \"\"}, \"bgcolor\": \"#E5ECF6\", \"radialaxis\": {\"gridcolor\": \"white\", \"linecolor\": \"white\", \"ticks\": \"\"}}, \"scene\": {\"xaxis\": {\"backgroundcolor\": \"#E5ECF6\", \"gridcolor\": \"white\", \"gridwidth\": 2, \"linecolor\": \"white\", \"showbackground\": true, \"ticks\": \"\", \"zerolinecolor\": \"white\"}, \"yaxis\": {\"backgroundcolor\": \"#E5ECF6\", \"gridcolor\": \"white\", \"gridwidth\": 2, \"linecolor\": \"white\", \"showbackground\": true, \"ticks\": \"\", \"zerolinecolor\": \"white\"}, \"zaxis\": {\"backgroundcolor\": \"#E5ECF6\", \"gridcolor\": \"white\", \"gridwidth\": 2, \"linecolor\": \"white\", \"showbackground\": true, \"ticks\": \"\", \"zerolinecolor\": \"white\"}}, \"shapedefaults\": {\"line\": {\"color\": \"#2a3f5f\"}}, \"ternary\": {\"aaxis\": {\"gridcolor\": \"white\", \"linecolor\": \"white\", \"ticks\": \"\"}, \"baxis\": {\"gridcolor\": \"white\", \"linecolor\": \"white\", \"ticks\": \"\"}, \"bgcolor\": \"#E5ECF6\", \"caxis\": {\"gridcolor\": \"white\", \"linecolor\": \"white\", \"ticks\": \"\"}}, \"title\": {\"x\": 0.05}, \"xaxis\": {\"automargin\": true, \"gridcolor\": \"white\", \"linecolor\": \"white\", \"ticks\": \"\", \"title\": {\"standoff\": 15}, \"zerolinecolor\": \"white\", \"zerolinewidth\": 2}, \"yaxis\": {\"automargin\": true, \"gridcolor\": \"white\", \"linecolor\": \"white\", \"ticks\": \"\", \"title\": {\"standoff\": 15}, \"zerolinecolor\": \"white\", \"zerolinewidth\": 2}}}, \"title\": {\"text\": \"Model Loss progress During Training\"}, \"xaxis\": {\"anchor\": \"y\", \"domain\": [0.0, 1.0]}, \"yaxis\": {\"anchor\": \"x\", \"domain\": [0.0, 1.0]}},\n",
       "                        {\"responsive\": true}\n",
       "                    ).then(function(){\n",
       "                            \n",
       "var gd = document.getElementById('15794bcc-2492-44f5-8dbb-8ef9a9b4917d');\n",
       "var x = new MutationObserver(function (mutations, observer) {{\n",
       "        var display = window.getComputedStyle(gd).display;\n",
       "        if (!display || display === 'none') {{\n",
       "            console.log([gd, 'removed!']);\n",
       "            Plotly.purge(gd);\n",
       "            observer.disconnect();\n",
       "        }}\n",
       "}});\n",
       "\n",
       "// Listen for the removal of the full notebook cells\n",
       "var notebookContainer = gd.closest('#notebook-container');\n",
       "if (notebookContainer) {{\n",
       "    x.observe(notebookContainer, {childList: true});\n",
       "}}\n",
       "\n",
       "// Listen for the clearing of the current output cell\n",
       "var outputEl = gd.closest('.output');\n",
       "if (outputEl) {{\n",
       "    x.observe(outputEl, {childList: true});\n",
       "}}\n",
       "\n",
       "                        })\n",
       "                };\n",
       "                });\n",
       "            </script>\n",
       "        </div>"
      ]
     },
     "metadata": {},
     "output_type": "display_data"
    }
   ],
   "source": [
    "# Plot Model Loss progress During Training'\n",
    "interactive_plot(pd.DataFrame(history.history), 'Model Loss progress During Training')"
   ]
  },
  {
   "cell_type": "code",
   "execution_count": 20,
   "metadata": {
    "scrolled": true
   },
   "outputs": [
    {
     "name": "stdout",
     "output_type": "stream",
     "text": [
      "Train on 3679 samples, validate on 1577 samples\n",
      "Epoch 1/50\n",
      "3679/3679 [==============================] - 4s 1ms/sample - loss: 7.0567e-04 - val_loss: 5.7642e-04\n",
      "Epoch 2/50\n",
      "3679/3679 [==============================] - 4s 1ms/sample - loss: 3.7597e-04 - val_loss: 2.7776e-04\n",
      "Epoch 3/50\n",
      "3679/3679 [==============================] - 4s 1ms/sample - loss: 3.9156e-04 - val_loss: 2.9405e-04\n",
      "Epoch 4/50\n",
      "3679/3679 [==============================] - 4s 1ms/sample - loss: 3.0633e-04 - val_loss: 3.6636e-04\n",
      "Epoch 5/50\n",
      "3679/3679 [==============================] - 4s 1ms/sample - loss: 3.2122e-04 - val_loss: 2.6864e-04\n",
      "Epoch 6/50\n",
      "3679/3679 [==============================] - 4s 1ms/sample - loss: 3.7349e-04 - val_loss: 3.8938e-04\n",
      "Epoch 7/50\n",
      "3679/3679 [==============================] - 4s 1ms/sample - loss: 3.2939e-04 - val_loss: 4.9940e-04\n",
      "Epoch 8/50\n",
      "3679/3679 [==============================] - 4s 1ms/sample - loss: 3.3058e-04 - val_loss: 4.8564e-04\n",
      "Epoch 9/50\n",
      "3679/3679 [==============================] - 4s 1ms/sample - loss: 2.3814e-04 - val_loss: 3.3346e-04\n",
      "Epoch 10/50\n",
      "3679/3679 [==============================] - 4s 1ms/sample - loss: 2.7121e-04 - val_loss: 2.2158e-04\n",
      "Epoch 11/50\n",
      "3679/3679 [==============================] - 4s 1ms/sample - loss: 3.0443e-04 - val_loss: 2.4117e-04\n",
      "Epoch 12/50\n",
      "3679/3679 [==============================] - 4s 1ms/sample - loss: 2.5698e-04 - val_loss: 3.0925e-04\n",
      "Epoch 13/50\n",
      "3679/3679 [==============================] - 4s 1ms/sample - loss: 2.7521e-04 - val_loss: 3.9373e-04\n",
      "Epoch 14/50\n",
      "3679/3679 [==============================] - 4s 1ms/sample - loss: 2.5955e-04 - val_loss: 2.6143e-04\n",
      "Epoch 15/50\n",
      "3679/3679 [==============================] - 4s 1ms/sample - loss: 2.8600e-04 - val_loss: 2.5172e-04\n",
      "Epoch 16/50\n",
      "3679/3679 [==============================] - 4s 1ms/sample - loss: 2.9520e-04 - val_loss: 2.6625e-04\n",
      "Epoch 17/50\n",
      "3679/3679 [==============================] - 4s 1ms/sample - loss: 3.2693e-04 - val_loss: 2.2348e-04\n",
      "Epoch 18/50\n",
      "3679/3679 [==============================] - 4s 1ms/sample - loss: 2.6141e-04 - val_loss: 3.2803e-04\n",
      "Epoch 19/50\n",
      "3679/3679 [==============================] - 5s 1ms/sample - loss: 3.1563e-04 - val_loss: 2.0223e-04\n",
      "Epoch 20/50\n",
      "3679/3679 [==============================] - 5s 1ms/sample - loss: 2.9061e-04 - val_loss: 4.2480e-04\n",
      "Epoch 21/50\n",
      "3679/3679 [==============================] - 5s 1ms/sample - loss: 3.0884e-04 - val_loss: 2.5400e-04\n",
      "Epoch 22/50\n",
      "3679/3679 [==============================] - 5s 1ms/sample - loss: 2.4662e-04 - val_loss: 2.4036e-04\n",
      "Epoch 23/50\n",
      "3679/3679 [==============================] - 5s 1ms/sample - loss: 3.1657e-04 - val_loss: 2.3187e-04\n",
      "Epoch 24/50\n",
      "3679/3679 [==============================] - 4s 1ms/sample - loss: 2.8862e-04 - val_loss: 2.1822e-04\n",
      "Epoch 25/50\n",
      "3679/3679 [==============================] - 4s 1ms/sample - loss: 2.5799e-04 - val_loss: 2.0252e-04\n",
      "Epoch 26/50\n",
      "3679/3679 [==============================] - 4s 1ms/sample - loss: 2.7244e-04 - val_loss: 2.0118e-04\n",
      "Epoch 27/50\n",
      "3679/3679 [==============================] - 4s 1ms/sample - loss: 2.7582e-04 - val_loss: 2.4165e-04\n",
      "Epoch 28/50\n",
      "3679/3679 [==============================] - 4s 1ms/sample - loss: 3.5177e-04 - val_loss: 2.2561e-04\n",
      "Epoch 29/50\n",
      "3679/3679 [==============================] - 4s 1ms/sample - loss: 2.5191e-04 - val_loss: 2.6804e-04\n",
      "Epoch 30/50\n",
      "3679/3679 [==============================] - 4s 1ms/sample - loss: 2.4697e-04 - val_loss: 2.9315e-04\n",
      "Epoch 31/50\n",
      "3679/3679 [==============================] - 4s 1ms/sample - loss: 2.6917e-04 - val_loss: 3.1149e-04\n",
      "Epoch 32/50\n",
      "3679/3679 [==============================] - 4s 1ms/sample - loss: 2.3734e-04 - val_loss: 3.1648e-04\n",
      "Epoch 33/50\n",
      "3679/3679 [==============================] - 4s 1ms/sample - loss: 2.1649e-04 - val_loss: 2.1716e-04\n",
      "Epoch 34/50\n",
      "3679/3679 [==============================] - 5s 1ms/sample - loss: 2.4071e-04 - val_loss: 2.2321e-04\n",
      "Epoch 35/50\n",
      "3679/3679 [==============================] - 4s 1ms/sample - loss: 2.7236e-04 - val_loss: 2.9645e-04\n",
      "Epoch 36/50\n",
      "3679/3679 [==============================] - 4s 1ms/sample - loss: 2.6646e-04 - val_loss: 2.1424e-04\n",
      "Epoch 37/50\n",
      "3679/3679 [==============================] - 4s 1ms/sample - loss: 2.6805e-04 - val_loss: 2.0109e-04\n",
      "Epoch 38/50\n",
      "3679/3679 [==============================] - 4s 1ms/sample - loss: 2.7916e-04 - val_loss: 2.1645e-04\n",
      "Epoch 39/50\n",
      "3679/3679 [==============================] - 4s 1ms/sample - loss: 2.6107e-04 - val_loss: 3.9861e-04\n",
      "Epoch 40/50\n",
      "3679/3679 [==============================] - 4s 1ms/sample - loss: 2.5469e-04 - val_loss: 3.1348e-04\n",
      "Epoch 41/50\n",
      "3679/3679 [==============================] - 4s 1ms/sample - loss: 2.6242e-04 - val_loss: 2.5122e-04\n",
      "Epoch 42/50\n",
      "3679/3679 [==============================] - 4s 1ms/sample - loss: 2.8163e-04 - val_loss: 2.4524e-04\n",
      "Epoch 43/50\n",
      "3679/3679 [==============================] - 4s 1ms/sample - loss: 2.9949e-04 - val_loss: 1.9543e-04\n",
      "Epoch 44/50\n",
      "3679/3679 [==============================] - 4s 1ms/sample - loss: 2.5176e-04 - val_loss: 3.3597e-04\n",
      "Epoch 45/50\n",
      "3679/3679 [==============================] - 4s 1ms/sample - loss: 2.5739e-04 - val_loss: 4.0254e-04\n",
      "Epoch 46/50\n",
      "3679/3679 [==============================] - 4s 1ms/sample - loss: 2.5387e-04 - val_loss: 2.2057e-04\n",
      "Epoch 47/50\n",
      "3679/3679 [==============================] - 5s 1ms/sample - loss: 2.5348e-04 - val_loss: 2.3143e-04\n",
      "Epoch 48/50\n",
      "3679/3679 [==============================] - 5s 1ms/sample - loss: 2.6082e-04 - val_loss: 2.0485e-04\n",
      "Epoch 49/50\n",
      "3679/3679 [==============================] - 4s 1ms/sample - loss: 2.7427e-04 - val_loss: 2.5042e-04\n",
      "Epoch 50/50\n",
      "3679/3679 [==============================] - 4s 1ms/sample - loss: 2.6356e-04 - val_loss: 2.2699e-04\n"
     ]
    },
    {
     "data": {
      "text/plain": [
       "<tensorflow.python.keras.callbacks.History at 0x24b749afd88>"
      ]
     },
     "execution_count": 20,
     "metadata": {},
     "output_type": "execute_result"
    }
   ],
   "source": [
    "# from the loss plot we can see that the validation loss is less volatile between 60 and 80\n",
    "# we'll choose 70 epochs for training\n",
    "# Train the model with validation_data\n",
    "n_epochs = 50\n",
    "es = EarlyStopping(monitor='val_loss', mode='min', verbose=1)\n",
    "model.fit(X_train, y_train, epochs=n_epochs, batch_size=32, validation_data=(X_test,y_test))"
   ]
  },
  {
   "cell_type": "code",
   "execution_count": 21,
   "metadata": {},
   "outputs": [
    {
     "data": {
      "text/html": [
       "<div>\n",
       "<style scoped>\n",
       "    .dataframe tbody tr th:only-of-type {\n",
       "        vertical-align: middle;\n",
       "    }\n",
       "\n",
       "    .dataframe tbody tr th {\n",
       "        vertical-align: top;\n",
       "    }\n",
       "\n",
       "    .dataframe thead th {\n",
       "        text-align: right;\n",
       "    }\n",
       "</style>\n",
       "<table border=\"1\" class=\"dataframe\">\n",
       "  <thead>\n",
       "    <tr style=\"text-align: right;\">\n",
       "      <th></th>\n",
       "      <th>Target</th>\n",
       "      <th>Predictions</th>\n",
       "    </tr>\n",
       "    <tr>\n",
       "      <th>Date</th>\n",
       "      <th></th>\n",
       "      <th></th>\n",
       "    </tr>\n",
       "  </thead>\n",
       "  <tbody>\n",
       "    <tr>\n",
       "      <th>2014-08-27</th>\n",
       "      <td>25.562500</td>\n",
       "      <td>25.678875</td>\n",
       "    </tr>\n",
       "    <tr>\n",
       "      <th>2014-08-28</th>\n",
       "      <td>25.625000</td>\n",
       "      <td>25.747632</td>\n",
       "    </tr>\n",
       "    <tr>\n",
       "      <th>2014-08-29</th>\n",
       "      <td>25.825001</td>\n",
       "      <td>25.818015</td>\n",
       "    </tr>\n",
       "    <tr>\n",
       "      <th>2014-09-02</th>\n",
       "      <td>24.735001</td>\n",
       "      <td>25.915939</td>\n",
       "    </tr>\n",
       "    <tr>\n",
       "      <th>2014-09-03</th>\n",
       "      <td>24.530001</td>\n",
       "      <td>25.756608</td>\n",
       "    </tr>\n",
       "    <tr>\n",
       "      <th>...</th>\n",
       "      <td>...</td>\n",
       "      <td>...</td>\n",
       "    </tr>\n",
       "    <tr>\n",
       "      <th>2020-11-23</th>\n",
       "      <td>115.169998</td>\n",
       "      <td>115.257378</td>\n",
       "    </tr>\n",
       "    <tr>\n",
       "      <th>2020-11-24</th>\n",
       "      <td>116.029999</td>\n",
       "      <td>114.488223</td>\n",
       "    </tr>\n",
       "    <tr>\n",
       "      <th>2020-11-25</th>\n",
       "      <td>116.589996</td>\n",
       "      <td>114.190585</td>\n",
       "    </tr>\n",
       "    <tr>\n",
       "      <th>2020-11-27</th>\n",
       "      <td>119.050003</td>\n",
       "      <td>114.233368</td>\n",
       "    </tr>\n",
       "    <tr>\n",
       "      <th>2020-11-30</th>\n",
       "      <td>122.720001</td>\n",
       "      <td>114.938369</td>\n",
       "    </tr>\n",
       "  </tbody>\n",
       "</table>\n",
       "<p>1577 rows × 2 columns</p>\n",
       "</div>"
      ],
      "text/plain": [
       "                Target  Predictions\n",
       "Date                               \n",
       "2014-08-27   25.562500    25.678875\n",
       "2014-08-28   25.625000    25.747632\n",
       "2014-08-29   25.825001    25.818015\n",
       "2014-09-02   24.735001    25.915939\n",
       "2014-09-03   24.530001    25.756608\n",
       "...                ...          ...\n",
       "2020-11-23  115.169998   115.257378\n",
       "2020-11-24  116.029999   114.488223\n",
       "2020-11-25  116.589996   114.190585\n",
       "2020-11-27  119.050003   114.233368\n",
       "2020-11-30  122.720001   114.938369\n",
       "\n",
       "[1577 rows x 2 columns]"
      ]
     },
     "execution_count": 21,
     "metadata": {},
     "output_type": "execute_result"
    }
   ],
   "source": [
    "# Inverse scale predictions and add predictions to supervised data \n",
    "#test_df = test_df.drop(columns=['Target'])\n",
    "predictions = model.predict(X_test)\n",
    "Predictions_df = pd.DataFrame(X_test[:,:,0], columns = test_df.columns[:-1], index=test_df.index)\n",
    "Predictions_df['Predictions'] = predictions\n",
    "Predictions_df = pd.DataFrame(sc.inverse_transform(Predictions_df),columns=Predictions_df.columns, index=Predictions_df.index)\n",
    "Predictions_df['Target'] = test_df['Target']\n",
    "Predictions_df = Predictions_df[['Target','Predictions']]\n",
    "Predictions_df"
   ]
  },
  {
   "cell_type": "code",
   "execution_count": 23,
   "metadata": {},
   "outputs": [
    {
     "data": {
      "image/png": "[encoded data removed]"
     },
     "metadata": {},
     "output_type": "display_data"
    }
   ],
   "source": [
    "# Plot predictions over time\n",
    "fig = px.line(title = 'Real Target vs predicted '+ stock + ' stock price over time')\n",
    "fig.add_scatter(x = Supervised_data.index, y = Supervised_data['Target'],mode='lines', name = 'Real Target Close Price')\n",
    "fig.add_scatter(x = Predictions_df.index, y = Predictions_df['Predictions'],mode='lines', name = 'Predicted Close Price')\n",
    "fig.show(\"png\")"
   ]
  },
  {
   "cell_type": "code",
   "execution_count": 24,
   "metadata": {},
   "outputs": [
    {
     "data": {
      "image/png": "[encoded data removed]"
     },
     "metadata": {},
     "output_type": "display_data"
    }
   ],
   "source": [
    "# Plot predictions vs target\n",
    "fig = px.scatter(title = 'Real Target vs predicted '+ stock + ' stock price')\n",
    "fig.add_trace(go.Scatter(x = Predictions_df['Predictions'], y = Predictions_df['Target'],mode = 'markers'))\n",
    "fig.show(\"png\")"
   ]
  },
  {
   "cell_type": "code",
   "execution_count": 25,
   "metadata": {},
   "outputs": [
    {
     "name": "stdout",
     "output_type": "stream",
     "text": [
      "R2_score is 0.99489145167632\n",
      "--------------------------------------------------\n",
      "The mean squared error is 2.5962745783265695\n",
      "--------------------------------------------------\n",
      "The root mean squared error is 1.6112959313318487\n",
      "--------------------------------------------------\n",
      "the mean absolute error is 0.965246310985837\n",
      "--------------------------------------------------\n"
     ]
    }
   ],
   "source": [
    "from sklearn.metrics import r2_score, mean_squared_error, mean_absolute_error\n",
    "R2_score = r2_score(Predictions_df['Predictions'],Predictions_df['Target'])\n",
    "MSE = mean_squared_error(Predictions_df['Predictions'],Predictions_df['Target'])\n",
    "RMSE = MSE**(1/2)\n",
    "MAE = mean_absolute_error(Predictions_df['Predictions'],Predictions_df['Target'])\n",
    "print('R2_score is {}'.format(R2_score))\n",
    "print('-'*50)\n",
    "print('The mean squared error is {}'.format(MSE))\n",
    "print('-'*50)\n",
    "print('The root mean squared error is {}'.format(RMSE))\n",
    "print('-'*50)\n",
    "print('the mean absolute error is {}'.format(MAE))\n",
    "print('-'*50)"
   ]
  }
 ],
 "metadata": {
  "kernelspec": {
   "display_name": "Python 3",
   "language": "python",
   "name": "python3"
  },
  "language_info": {
   "codemirror_mode": {
    "name": "ipython",
    "version": 3
   },
   "file_extension": ".py",
   "mimetype": "text/x-python",
   "name": "python",
   "nbconvert_exporter": "python",
   "pygments_lexer": "ipython3",
   "version": "3.7.6"
  }
 },
 "nbformat": 4,
 "nbformat_minor": 4
}
